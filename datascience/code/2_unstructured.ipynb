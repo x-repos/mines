{
 "cells": [
  {
   "cell_type": "code",
   "execution_count": 6,
   "id": "d85ff8b4",
   "metadata": {},
   "outputs": [
    {
     "name": "stdout",
     "output_type": "stream",
     "text": [
      "[done] Wrote 72 rows to /home/x/Workspace/datascience/weather_hourly.csv\n",
      "First 3 rows: [{'timestamp': '2025-09-01T00:00', 'latitude': 39.746895, 'longitude': -104.987076, 'timezone': 'America/Denver', 'temperature_c': 15.1, 'windspeed_kmh': 7.6, 'winddirection_deg': 265, 'weathercode': 0}, {'timestamp': '2025-09-01T01:00', 'latitude': 39.746895, 'longitude': -104.987076, 'timezone': 'America/Denver', 'temperature_c': 13.9, 'windspeed_kmh': 1.0, 'winddirection_deg': 135, 'weathercode': 0}, {'timestamp': '2025-09-01T02:00', 'latitude': 39.746895, 'longitude': -104.987076, 'timezone': 'America/Denver', 'temperature_c': 13.3, 'windspeed_kmh': 5.9, 'winddirection_deg': 166, 'weathercode': 0}]\n"
     ]
    }
   ],
   "source": [
    "# Fetch hourly weather data for multiple hours/days\n",
    "\n",
    "from urllib import request, parse\n",
    "import json, csv, os\n",
    "\n",
    "WX_URL = \"https://api.open-meteo.com/v1/forecast\"\n",
    "\n",
    "# ---- settings ----\n",
    "lat, lon = 39.73915, -104.9847   # Denver coords\n",
    "out_csv = \"weather_hourly.csv\"\n",
    "days = 3  # how many days ahead\n",
    "# ------------------\n",
    "\n",
    "def fetch_hourly(lat, lon, days=1):\n",
    "    params = {\n",
    "        \"latitude\": lat,\n",
    "        \"longitude\": lon,\n",
    "        \"hourly\": \"temperature_2m,windspeed_10m,winddirection_10m,weathercode\",\n",
    "        \"forecast_days\": days,\n",
    "        \"timezone\": \"auto\",\n",
    "    }\n",
    "    url = f\"{WX_URL}?{parse.urlencode(params)}\"\n",
    "    with request.urlopen(url, timeout=30) as resp:\n",
    "        return json.loads(resp.read().decode(\"utf-8\"))\n",
    "\n",
    "data = fetch_hourly(lat, lon, days)\n",
    "\n",
    "hours = data[\"hourly\"]\n",
    "rows = []\n",
    "for i, t in enumerate(hours[\"time\"]):\n",
    "    rows.append({\n",
    "        \"timestamp\": t,\n",
    "        \"latitude\": data[\"latitude\"],\n",
    "        \"longitude\": data[\"longitude\"],\n",
    "        \"timezone\": data[\"timezone\"],\n",
    "        \"temperature_c\": hours[\"temperature_2m\"][i],\n",
    "        \"windspeed_kmh\": hours[\"windspeed_10m\"][i],\n",
    "        \"winddirection_deg\": hours[\"winddirection_10m\"][i],\n",
    "        \"weathercode\": hours[\"weathercode\"][i],\n",
    "    })\n",
    "\n",
    "# Save to CSV\n",
    "cols = list(rows[0].keys())\n",
    "with open(out_csv, \"w\", newline=\"\", encoding=\"utf-8\") as f:\n",
    "    w = csv.DictWriter(f, fieldnames=cols)\n",
    "    w.writeheader()\n",
    "    w.writerows(rows)\n",
    "\n",
    "print(f\"[done] Wrote {len(rows)} rows to {os.path.abspath(out_csv)}\")\n",
    "print(\"First 3 rows:\", rows[:3])\n"
   ]
  }
 ],
 "metadata": {
  "kernelspec": {
   "display_name": "ds",
   "language": "python",
   "name": "python3"
  },
  "language_info": {
   "codemirror_mode": {
    "name": "ipython",
    "version": 3
   },
   "file_extension": ".py",
   "mimetype": "text/x-python",
   "name": "python",
   "nbconvert_exporter": "python",
   "pygments_lexer": "ipython3",
   "version": "3.13.5"
  }
 },
 "nbformat": 4,
 "nbformat_minor": 5
}
