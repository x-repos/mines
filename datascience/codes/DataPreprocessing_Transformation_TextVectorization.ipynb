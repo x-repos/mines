{
 "cells": [
  {
   "cell_type": "markdown",
   "id": "510487b9-6ca5-4530-8299-ae01b3390bf7",
   "metadata": {},
   "source": [
    "# Advanced Data Science\n",
    "<p/>\n",
    "\n",
    "### Data Preprocessing - Transformation (Text Vectorization)"
   ]
  },
  {
   "cell_type": "code",
   "execution_count": 6,
   "id": "3fd5b288-4445-427e-a18a-4eeebf66b911",
   "metadata": {},
   "outputs": [],
   "source": [
    "#Example of supress warnings for Numpy version out of range (optional)\n",
    "import warnings\n",
    "warnings.filterwarnings(\"ignore\", category=Warning)\n",
    "\n",
    "#Pull in the libraries we need \n",
    "import pandas as pd\n",
    "from pandas import DataFrame\n",
    "\n",
    "#New libraries for access to transformation tasks\n",
    "from sklearn.feature_extraction.text import TfidfVectorizer"
   ]
  },
  {
   "cell_type": "markdown",
   "id": "df528013-9382-4a6e-9dd0-6ec5f1fce6d0",
   "metadata": {},
   "source": [
    "## Scikit Learn `TfidfVectorizer`\n",
    "---\n",
    "We access the Scikit Learn Toolkit at: https://scikit-learn.org\n",
    "\n",
    "Our experiments today will be using the `TfidfVectorizer` class to convert a collection of raw documents to a matrix of TF-IDF features. <br>\n",
    "\n",
    "TF-IDF stands for Term Frequency-Inverse Document Frequency, which is a statistical measure used to evaluate how important a word is to a document within a collection or corpus. At a high-level, this approach follows these steps:\n",
    "- Measures how frequently a term (word) appears in a document\n",
    "- Measures how important a term is by checking how commonly it appears across all documents in the corpus\n",
    "- Combines TF and IDF to determine the weight of a term in a specific document relative to its occurrence across all documents in the corpus\n",
    "- Higher TF-IDF values indicate that a term is more important to the document."
   ]
  },
  {
   "cell_type": "code",
   "execution_count": 2,
   "id": "51515c60-7d5c-4e72-b875-d9ac08410a8a",
   "metadata": {},
   "outputs": [],
   "source": [
    "#First step is to setup a variable for some sample text, each line could  \n",
    "#represent a document in entire corpus (collection of documents)\n",
    "corpus = [\n",
    "    'This is the first document.',\n",
    "    'This document is the second document.',\n",
    "    'And this is the third one.',\n",
    "    'Is this the first document?',\n",
    "]"
   ]
  },
  {
   "cell_type": "markdown",
   "id": "ec5d4ed3-02e0-4bb7-8b0f-8800f055881e",
   "metadata": {},
   "source": [
    "## Text Vectorization using TfidfVectorizer"
   ]
  },
  {
   "cell_type": "code",
   "execution_count": 3,
   "id": "07ab19c1-20f3-4d80-9a2d-afb59974e7ef",
   "metadata": {},
   "outputs": [],
   "source": [
    "#Initialize TF-IDF Vectorizer model object, then fit and transform the text\n",
    "#Using the default values, we are only looking at words and N-grams of size 1\n",
    "#which means each item in the sequence is a single word (or character if using char)\n",
    "vectorizer = TfidfVectorizer()\n",
    "tfidf_matrix = vectorizer.fit_transform(corpus)\n",
    "\n",
    "#Get feature names (words or terms)\n",
    "feature_names = vectorizer.get_feature_names_out()\n",
    "\n",
    "#Convert the resultant TF-IDF matrix to a pandas Dataframe\n",
    "tfidf_df = pd.DataFrame(tfidf_matrix.toarray(), columns=feature_names)"
   ]
  },
  {
   "cell_type": "code",
   "execution_count": 4,
   "id": "99e505dc-9e01-4ea4-9673-94355b4a616e",
   "metadata": {},
   "outputs": [
    {
     "data": {
      "text/html": [
       "<div>\n",
       "<style scoped>\n",
       "    .dataframe tbody tr th:only-of-type {\n",
       "        vertical-align: middle;\n",
       "    }\n",
       "\n",
       "    .dataframe tbody tr th {\n",
       "        vertical-align: top;\n",
       "    }\n",
       "\n",
       "    .dataframe thead th {\n",
       "        text-align: right;\n",
       "    }\n",
       "</style>\n",
       "<table border=\"1\" class=\"dataframe\">\n",
       "  <thead>\n",
       "    <tr style=\"text-align: right;\">\n",
       "      <th></th>\n",
       "      <th>and</th>\n",
       "      <th>document</th>\n",
       "      <th>first</th>\n",
       "      <th>is</th>\n",
       "      <th>one</th>\n",
       "      <th>second</th>\n",
       "      <th>the</th>\n",
       "      <th>third</th>\n",
       "      <th>this</th>\n",
       "    </tr>\n",
       "  </thead>\n",
       "  <tbody>\n",
       "    <tr>\n",
       "      <th>0</th>\n",
       "      <td>0.000000</td>\n",
       "      <td>0.469791</td>\n",
       "      <td>0.580286</td>\n",
       "      <td>0.384085</td>\n",
       "      <td>0.000000</td>\n",
       "      <td>0.000000</td>\n",
       "      <td>0.384085</td>\n",
       "      <td>0.000000</td>\n",
       "      <td>0.384085</td>\n",
       "    </tr>\n",
       "    <tr>\n",
       "      <th>1</th>\n",
       "      <td>0.000000</td>\n",
       "      <td>0.687624</td>\n",
       "      <td>0.000000</td>\n",
       "      <td>0.281089</td>\n",
       "      <td>0.000000</td>\n",
       "      <td>0.538648</td>\n",
       "      <td>0.281089</td>\n",
       "      <td>0.000000</td>\n",
       "      <td>0.281089</td>\n",
       "    </tr>\n",
       "    <tr>\n",
       "      <th>2</th>\n",
       "      <td>0.511849</td>\n",
       "      <td>0.000000</td>\n",
       "      <td>0.000000</td>\n",
       "      <td>0.267104</td>\n",
       "      <td>0.511849</td>\n",
       "      <td>0.000000</td>\n",
       "      <td>0.267104</td>\n",
       "      <td>0.511849</td>\n",
       "      <td>0.267104</td>\n",
       "    </tr>\n",
       "    <tr>\n",
       "      <th>3</th>\n",
       "      <td>0.000000</td>\n",
       "      <td>0.469791</td>\n",
       "      <td>0.580286</td>\n",
       "      <td>0.384085</td>\n",
       "      <td>0.000000</td>\n",
       "      <td>0.000000</td>\n",
       "      <td>0.384085</td>\n",
       "      <td>0.000000</td>\n",
       "      <td>0.384085</td>\n",
       "    </tr>\n",
       "  </tbody>\n",
       "</table>\n",
       "</div>"
      ],
      "text/plain": [
       "        and  document     first        is       one    second       the  \\\n",
       "0  0.000000  0.469791  0.580286  0.384085  0.000000  0.000000  0.384085   \n",
       "1  0.000000  0.687624  0.000000  0.281089  0.000000  0.538648  0.281089   \n",
       "2  0.511849  0.000000  0.000000  0.267104  0.511849  0.000000  0.267104   \n",
       "3  0.000000  0.469791  0.580286  0.384085  0.000000  0.000000  0.384085   \n",
       "\n",
       "      third      this  \n",
       "0  0.000000  0.384085  \n",
       "1  0.000000  0.281089  \n",
       "2  0.511849  0.267104  \n",
       "3  0.000000  0.384085  "
      ]
     },
     "execution_count": 4,
     "metadata": {},
     "output_type": "execute_result"
    }
   ],
   "source": [
    "#Interpreting the output ... TF-IDF scores for each word and document are included\n",
    "#Each row is a document in the corpus and each column is a term (word) in the corpus\n",
    "#A value of 0.687624 in the cell under the \"document\" column and the second row indicates \n",
    "#the TF-IDF score of the term \"document\" in the second document.\n",
    "#\n",
    "#Min: 0 indicates the term does not appear in the document or in every document (not discriminative)\n",
    "#\n",
    "#Max: No upper bound, high scores are assigned to terms that appear frequently in a specific document \n",
    "#but rarely in the corpus have high TF-IDF scores. \n",
    "#This often happens with terms that are unique or rare within the corpus.\n",
    "tfidf_df"
   ]
  },
  {
   "cell_type": "code",
   "execution_count": null,
   "id": "2279c65e-1f48-4d42-bd60-a27bff953100",
   "metadata": {},
   "outputs": [],
   "source": []
  }
 ],
 "metadata": {
  "kernelspec": {
   "display_name": "Python 3 (ipykernel)",
   "language": "python",
   "name": "python3"
  },
  "language_info": {
   "codemirror_mode": {
    "name": "ipython",
    "version": 3
   },
   "file_extension": ".py",
   "mimetype": "text/x-python",
   "name": "python",
   "nbconvert_exporter": "python",
   "pygments_lexer": "ipython3",
   "version": "3.9.18"
  }
 },
 "nbformat": 4,
 "nbformat_minor": 5
}
