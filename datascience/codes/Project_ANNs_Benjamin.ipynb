{
  "cells": [
    {
      "cell_type": "markdown",
      "metadata": {
        "id": "ZZkM-PbRZ1Jv"
      },
      "source": [
        "# Project: Artificial Neural Network (ANN)\n",
        "## Name: Hoang Anh (Benjamin) Nguyen\n",
        "This Jupyter Notebook Starter File provides a basic outline for your solutions. For detailed instructions, please refer to the assignment on Canvas. Complete all your work for this project in this same Jupyter Notebook file, which you will submit:\n",
        "- Code:\n",
        "  - Insert your code where you see #Insert Code Here.\n",
        "  - Ensure all code is well-commented and easy to understand.\n",
        "  - Use clear and descriptive variable names.\n",
        "- Questions:\n",
        "  - You will be provided guided questions in a separate assignment vs. here in the code to give you the opportunity to demonstrate a deep understanding of the concepts through thorough explanations and critical thinking."
      ]
    },
    {
      "cell_type": "code",
      "execution_count": null,
      "metadata": {
        "id": "mOE_1RVJZwPl"
      },
      "outputs": [],
      "source": [
        "#Example of supress warnings for Numpy version out of range (optional)\n",
        "import warnings\n",
        "warnings.filterwarnings(\"ignore\", category=Warning)\n",
        "warnings.simplefilter(action='ignore', category=FutureWarning)\n",
        "\n",
        "#Some recommended libraries\n",
        "import tensorflow as tf\n",
        "from tensorflow.keras.datasets import cifar10\n",
        "from tensorflow.keras.utils import to_categorical\n",
        "import pandas as pd\n",
        "from sklearn.model_selection import train_test_split\n",
        "from sklearn.preprocessing import StandardScaler\n",
        "from tensorflow.keras.models import Sequential\n",
        "from tensorflow.keras.layers import Dense, Flatten\n",
        "from tensorflow.keras import layers, models\n",
        "import matplotlib.pyplot as plt\n",
        "from sklearn.metrics import mean_absolute_error, mean_squared_error, r2_score\n",
        "from sklearn.metrics import classification_report, confusion_matrix\n",
        "import numpy as np\n",
        "import keras_tuner as kt\n",
        "import itertools\n",
        "\n",
        "\n"
      ]
    },
    {
      "cell_type": "markdown",
      "metadata": {
        "id": "0ceZm16zZ6w_"
      },
      "source": [
        "# Part 1: CIFAR-10 Dataset - Image Based"
      ]
    },
    {
      "cell_type": "markdown",
      "metadata": {
        "id": "idFdPWY8Z21n"
      },
      "source": [
        "# The Dataset"
      ]
    },
    {
      "cell_type": "code",
      "execution_count": 36,
      "metadata": {
        "id": "AE87PZ5_Z6Wj"
      },
      "outputs": [],
      "source": [
        "# Load the CIFAR-10 dataset\n",
        "(X_train, y_train), (X_test, y_test) = cifar10.load_data()"
      ]
    },
    {
      "cell_type": "markdown",
      "metadata": {
        "id": "W81VhKmFbUrm"
      },
      "source": [
        "# Data Preprocessing"
      ]
    },
    {
      "cell_type": "code",
      "execution_count": 37,
      "metadata": {
        "colab": {
          "base_uri": "https://localhost:8080/"
        },
        "id": "ldSR58GciJQ2",
        "outputId": "4ce68929-6b1b-4e90-95e3-fec9f7428195"
      },
      "outputs": [
        {
          "name": "stdout",
          "output_type": "stream",
          "text": [
            "Max pixel value (before): 255\n",
            "Min pixel value (before): 0\n"
          ]
        }
      ],
      "source": [
        "\n",
        "#Insert Code Here\n",
        "print(\"Max pixel value (before):\", X_train.max())\n",
        "print(\"Min pixel value (before):\", X_train.min())"
      ]
    },
    {
      "cell_type": "code",
      "execution_count": 38,
      "metadata": {
        "colab": {
          "base_uri": "https://localhost:8080/"
        },
        "id": "XI7h57v3bUrm",
        "outputId": "d0fd8a93-1097-4971-979e-e7773447924c"
      },
      "outputs": [
        {
          "name": "stdout",
          "output_type": "stream",
          "text": [
            "Training data shape: (50000, 32, 32, 3)\n",
            "Training labels shape: (50000, 10)\n",
            "Testing data shape: (10000, 32, 32, 3)\n",
            "Testing labels shape: (10000, 10)\n"
          ]
        }
      ],
      "source": [
        "# Since this is a bit new, leaving in for some starter code :)\n",
        "# Normalize the images to a range of 0 to 1\n",
        "X_train = X_train.astype('float32') / X_train.max()\n",
        "X_test = X_test.astype('float32') / X_test.max()\n",
        "\n",
        "# Convert class vectors to binary class matrices (one-hot encoding)\n",
        "y_train = to_categorical(y_train, 10)\n",
        "y_test = to_categorical(y_test, 10)\n",
        "\n",
        "print(f\"Training data shape: {X_train.shape}\")\n",
        "print(f\"Training labels shape: {y_train.shape}\")\n",
        "print(f\"Testing data shape: {X_test.shape}\")\n",
        "print(f\"Testing labels shape: {y_test.shape}\")"
      ]
    },
    {
      "cell_type": "markdown",
      "metadata": {
        "id": "nEktBwY9Z75Z"
      },
      "source": [
        "# Building the ANN Model"
      ]
    },
    {
      "cell_type": "code",
      "execution_count": 4,
      "metadata": {
        "id": "AnUqy94yfYWw"
      },
      "outputs": [],
      "source": [
        "tf.debugging.set_log_device_placement(False)   # stop per-op device logs\n"
      ]
    },
    {
      "cell_type": "code",
      "execution_count": 19,
      "metadata": {
        "colab": {
          "base_uri": "https://localhost:8080/"
        },
        "id": "4BuN0iAZcAue",
        "outputId": "a899b507-1c66-453e-b473-e42962ea1256"
      },
      "outputs": [
        {
          "name": "stdout",
          "output_type": "stream",
          "text": [
            "Original labels shape: (50000, 10)\n",
            "First 5 labels (raw): [0. 0. 0. 0. 0. 0. 1. 0. 0. 0. 0. 0. 0. 0. 0. 0. 0. 0. 0. 1. 0. 0. 0. 0.\n",
            " 0. 0. 0. 0. 0. 1. 0. 0. 0. 0. 1. 0. 0. 0. 0. 0. 0. 1. 0. 0. 0. 0. 0. 0.\n",
            " 0. 0.]\n"
          ]
        }
      ],
      "source": [
        "print(\"Original labels shape:\", y_train.shape)\n",
        "print(\"First 5 labels (raw):\", y_train[:5].ravel())"
      ]
    },
    {
      "cell_type": "markdown",
      "metadata": {
        "id": "Q_0mWZ3scVYl"
      },
      "source": [
        "The training data is already one-hot encoded."
      ]
    },
    {
      "cell_type": "code",
      "execution_count": 20,
      "metadata": {
        "colab": {
          "base_uri": "https://localhost:8080/"
        },
        "id": "GdJzX8_pdYQV",
        "outputId": "6a05312f-82ec-4999-e502-b5b56abd6cdd"
      },
      "outputs": [
        {
          "name": "stdout",
          "output_type": "stream",
          "text": [
            "Training data shape: (50000, 32, 32, 3)\n",
            "One sample shape: (32, 32, 3)\n"
          ]
        }
      ],
      "source": [
        "print(\"Training data shape:\", X_train.shape)\n",
        "print(\"One sample shape:\", X_train[0].shape)\n"
      ]
    },
    {
      "cell_type": "code",
      "execution_count": 8,
      "metadata": {
        "colab": {
          "base_uri": "https://localhost:8080/",
          "height": 529
        },
        "id": "n_kO4Oz0aByv",
        "outputId": "24c1f0d4-0ac1-4ae7-f41a-d852b8ba8b6d"
      },
      "outputs": [
        {
          "data": {
            "text/html": [
              "<pre style=\"white-space:pre;overflow-x:auto;line-height:normal;font-family:Menlo,'DejaVu Sans Mono',consolas,'Courier New',monospace\"><span style=\"font-weight: bold\">Model: \"sequential\"</span>\n",
              "</pre>\n"
            ],
            "text/plain": [
              "\u001b[1mModel: \"sequential\"\u001b[0m\n"
            ]
          },
          "metadata": {},
          "output_type": "display_data"
        },
        {
          "data": {
            "text/html": [
              "<pre style=\"white-space:pre;overflow-x:auto;line-height:normal;font-family:Menlo,'DejaVu Sans Mono',consolas,'Courier New',monospace\">┏━━━━━━━━━━━━━━━━━━━━━━━━━━━━━━━━━┳━━━━━━━━━━━━━━━━━━━━━━━━┳━━━━━━━━━━━━━━━┓\n",
              "┃<span style=\"font-weight: bold\"> Layer (type)                    </span>┃<span style=\"font-weight: bold\"> Output Shape           </span>┃<span style=\"font-weight: bold\">       Param # </span>┃\n",
              "┡━━━━━━━━━━━━━━━━━━━━━━━━━━━━━━━━━╇━━━━━━━━━━━━━━━━━━━━━━━━╇━━━━━━━━━━━━━━━┩\n",
              "│ conv2d (<span style=\"color: #0087ff; text-decoration-color: #0087ff\">Conv2D</span>)                 │ (<span style=\"color: #00d7ff; text-decoration-color: #00d7ff\">None</span>, <span style=\"color: #00af00; text-decoration-color: #00af00\">32</span>, <span style=\"color: #00af00; text-decoration-color: #00af00\">32</span>, <span style=\"color: #00af00; text-decoration-color: #00af00\">32</span>)     │           <span style=\"color: #00af00; text-decoration-color: #00af00\">896</span> │\n",
              "├─────────────────────────────────┼────────────────────────┼───────────────┤\n",
              "│ conv2d_1 (<span style=\"color: #0087ff; text-decoration-color: #0087ff\">Conv2D</span>)               │ (<span style=\"color: #00d7ff; text-decoration-color: #00d7ff\">None</span>, <span style=\"color: #00af00; text-decoration-color: #00af00\">32</span>, <span style=\"color: #00af00; text-decoration-color: #00af00\">32</span>, <span style=\"color: #00af00; text-decoration-color: #00af00\">32</span>)     │         <span style=\"color: #00af00; text-decoration-color: #00af00\">9,248</span> │\n",
              "├─────────────────────────────────┼────────────────────────┼───────────────┤\n",
              "│ max_pooling2d (<span style=\"color: #0087ff; text-decoration-color: #0087ff\">MaxPooling2D</span>)    │ (<span style=\"color: #00d7ff; text-decoration-color: #00d7ff\">None</span>, <span style=\"color: #00af00; text-decoration-color: #00af00\">16</span>, <span style=\"color: #00af00; text-decoration-color: #00af00\">16</span>, <span style=\"color: #00af00; text-decoration-color: #00af00\">32</span>)     │             <span style=\"color: #00af00; text-decoration-color: #00af00\">0</span> │\n",
              "├─────────────────────────────────┼────────────────────────┼───────────────┤\n",
              "│ dropout (<span style=\"color: #0087ff; text-decoration-color: #0087ff\">Dropout</span>)               │ (<span style=\"color: #00d7ff; text-decoration-color: #00d7ff\">None</span>, <span style=\"color: #00af00; text-decoration-color: #00af00\">16</span>, <span style=\"color: #00af00; text-decoration-color: #00af00\">16</span>, <span style=\"color: #00af00; text-decoration-color: #00af00\">32</span>)     │             <span style=\"color: #00af00; text-decoration-color: #00af00\">0</span> │\n",
              "├─────────────────────────────────┼────────────────────────┼───────────────┤\n",
              "│ conv2d_2 (<span style=\"color: #0087ff; text-decoration-color: #0087ff\">Conv2D</span>)               │ (<span style=\"color: #00d7ff; text-decoration-color: #00d7ff\">None</span>, <span style=\"color: #00af00; text-decoration-color: #00af00\">16</span>, <span style=\"color: #00af00; text-decoration-color: #00af00\">16</span>, <span style=\"color: #00af00; text-decoration-color: #00af00\">64</span>)     │        <span style=\"color: #00af00; text-decoration-color: #00af00\">18,496</span> │\n",
              "├─────────────────────────────────┼────────────────────────┼───────────────┤\n",
              "│ conv2d_3 (<span style=\"color: #0087ff; text-decoration-color: #0087ff\">Conv2D</span>)               │ (<span style=\"color: #00d7ff; text-decoration-color: #00d7ff\">None</span>, <span style=\"color: #00af00; text-decoration-color: #00af00\">16</span>, <span style=\"color: #00af00; text-decoration-color: #00af00\">16</span>, <span style=\"color: #00af00; text-decoration-color: #00af00\">64</span>)     │        <span style=\"color: #00af00; text-decoration-color: #00af00\">36,928</span> │\n",
              "├─────────────────────────────────┼────────────────────────┼───────────────┤\n",
              "│ max_pooling2d_1 (<span style=\"color: #0087ff; text-decoration-color: #0087ff\">MaxPooling2D</span>)  │ (<span style=\"color: #00d7ff; text-decoration-color: #00d7ff\">None</span>, <span style=\"color: #00af00; text-decoration-color: #00af00\">8</span>, <span style=\"color: #00af00; text-decoration-color: #00af00\">8</span>, <span style=\"color: #00af00; text-decoration-color: #00af00\">64</span>)       │             <span style=\"color: #00af00; text-decoration-color: #00af00\">0</span> │\n",
              "├─────────────────────────────────┼────────────────────────┼───────────────┤\n",
              "│ dropout_1 (<span style=\"color: #0087ff; text-decoration-color: #0087ff\">Dropout</span>)             │ (<span style=\"color: #00d7ff; text-decoration-color: #00d7ff\">None</span>, <span style=\"color: #00af00; text-decoration-color: #00af00\">8</span>, <span style=\"color: #00af00; text-decoration-color: #00af00\">8</span>, <span style=\"color: #00af00; text-decoration-color: #00af00\">64</span>)       │             <span style=\"color: #00af00; text-decoration-color: #00af00\">0</span> │\n",
              "├─────────────────────────────────┼────────────────────────┼───────────────┤\n",
              "│ flatten (<span style=\"color: #0087ff; text-decoration-color: #0087ff\">Flatten</span>)               │ (<span style=\"color: #00d7ff; text-decoration-color: #00d7ff\">None</span>, <span style=\"color: #00af00; text-decoration-color: #00af00\">4096</span>)           │             <span style=\"color: #00af00; text-decoration-color: #00af00\">0</span> │\n",
              "├─────────────────────────────────┼────────────────────────┼───────────────┤\n",
              "│ dense (<span style=\"color: #0087ff; text-decoration-color: #0087ff\">Dense</span>)                   │ (<span style=\"color: #00d7ff; text-decoration-color: #00d7ff\">None</span>, <span style=\"color: #00af00; text-decoration-color: #00af00\">256</span>)            │     <span style=\"color: #00af00; text-decoration-color: #00af00\">1,048,832</span> │\n",
              "├─────────────────────────────────┼────────────────────────┼───────────────┤\n",
              "│ dropout_2 (<span style=\"color: #0087ff; text-decoration-color: #0087ff\">Dropout</span>)             │ (<span style=\"color: #00d7ff; text-decoration-color: #00d7ff\">None</span>, <span style=\"color: #00af00; text-decoration-color: #00af00\">256</span>)            │             <span style=\"color: #00af00; text-decoration-color: #00af00\">0</span> │\n",
              "├─────────────────────────────────┼────────────────────────┼───────────────┤\n",
              "│ dense_1 (<span style=\"color: #0087ff; text-decoration-color: #0087ff\">Dense</span>)                 │ (<span style=\"color: #00d7ff; text-decoration-color: #00d7ff\">None</span>, <span style=\"color: #00af00; text-decoration-color: #00af00\">10</span>)             │         <span style=\"color: #00af00; text-decoration-color: #00af00\">2,570</span> │\n",
              "└─────────────────────────────────┴────────────────────────┴───────────────┘\n",
              "</pre>\n"
            ],
            "text/plain": [
              "┏━━━━━━━━━━━━━━━━━━━━━━━━━━━━━━━━━┳━━━━━━━━━━━━━━━━━━━━━━━━┳━━━━━━━━━━━━━━━┓\n",
              "┃\u001b[1m \u001b[0m\u001b[1mLayer (type)                   \u001b[0m\u001b[1m \u001b[0m┃\u001b[1m \u001b[0m\u001b[1mOutput Shape          \u001b[0m\u001b[1m \u001b[0m┃\u001b[1m \u001b[0m\u001b[1m      Param #\u001b[0m\u001b[1m \u001b[0m┃\n",
              "┡━━━━━━━━━━━━━━━━━━━━━━━━━━━━━━━━━╇━━━━━━━━━━━━━━━━━━━━━━━━╇━━━━━━━━━━━━━━━┩\n",
              "│ conv2d (\u001b[38;5;33mConv2D\u001b[0m)                 │ (\u001b[38;5;45mNone\u001b[0m, \u001b[38;5;34m32\u001b[0m, \u001b[38;5;34m32\u001b[0m, \u001b[38;5;34m32\u001b[0m)     │           \u001b[38;5;34m896\u001b[0m │\n",
              "├─────────────────────────────────┼────────────────────────┼───────────────┤\n",
              "│ conv2d_1 (\u001b[38;5;33mConv2D\u001b[0m)               │ (\u001b[38;5;45mNone\u001b[0m, \u001b[38;5;34m32\u001b[0m, \u001b[38;5;34m32\u001b[0m, \u001b[38;5;34m32\u001b[0m)     │         \u001b[38;5;34m9,248\u001b[0m │\n",
              "├─────────────────────────────────┼────────────────────────┼───────────────┤\n",
              "│ max_pooling2d (\u001b[38;5;33mMaxPooling2D\u001b[0m)    │ (\u001b[38;5;45mNone\u001b[0m, \u001b[38;5;34m16\u001b[0m, \u001b[38;5;34m16\u001b[0m, \u001b[38;5;34m32\u001b[0m)     │             \u001b[38;5;34m0\u001b[0m │\n",
              "├─────────────────────────────────┼────────────────────────┼───────────────┤\n",
              "│ dropout (\u001b[38;5;33mDropout\u001b[0m)               │ (\u001b[38;5;45mNone\u001b[0m, \u001b[38;5;34m16\u001b[0m, \u001b[38;5;34m16\u001b[0m, \u001b[38;5;34m32\u001b[0m)     │             \u001b[38;5;34m0\u001b[0m │\n",
              "├─────────────────────────────────┼────────────────────────┼───────────────┤\n",
              "│ conv2d_2 (\u001b[38;5;33mConv2D\u001b[0m)               │ (\u001b[38;5;45mNone\u001b[0m, \u001b[38;5;34m16\u001b[0m, \u001b[38;5;34m16\u001b[0m, \u001b[38;5;34m64\u001b[0m)     │        \u001b[38;5;34m18,496\u001b[0m │\n",
              "├─────────────────────────────────┼────────────────────────┼───────────────┤\n",
              "│ conv2d_3 (\u001b[38;5;33mConv2D\u001b[0m)               │ (\u001b[38;5;45mNone\u001b[0m, \u001b[38;5;34m16\u001b[0m, \u001b[38;5;34m16\u001b[0m, \u001b[38;5;34m64\u001b[0m)     │        \u001b[38;5;34m36,928\u001b[0m │\n",
              "├─────────────────────────────────┼────────────────────────┼───────────────┤\n",
              "│ max_pooling2d_1 (\u001b[38;5;33mMaxPooling2D\u001b[0m)  │ (\u001b[38;5;45mNone\u001b[0m, \u001b[38;5;34m8\u001b[0m, \u001b[38;5;34m8\u001b[0m, \u001b[38;5;34m64\u001b[0m)       │             \u001b[38;5;34m0\u001b[0m │\n",
              "├─────────────────────────────────┼────────────────────────┼───────────────┤\n",
              "│ dropout_1 (\u001b[38;5;33mDropout\u001b[0m)             │ (\u001b[38;5;45mNone\u001b[0m, \u001b[38;5;34m8\u001b[0m, \u001b[38;5;34m8\u001b[0m, \u001b[38;5;34m64\u001b[0m)       │             \u001b[38;5;34m0\u001b[0m │\n",
              "├─────────────────────────────────┼────────────────────────┼───────────────┤\n",
              "│ flatten (\u001b[38;5;33mFlatten\u001b[0m)               │ (\u001b[38;5;45mNone\u001b[0m, \u001b[38;5;34m4096\u001b[0m)           │             \u001b[38;5;34m0\u001b[0m │\n",
              "├─────────────────────────────────┼────────────────────────┼───────────────┤\n",
              "│ dense (\u001b[38;5;33mDense\u001b[0m)                   │ (\u001b[38;5;45mNone\u001b[0m, \u001b[38;5;34m256\u001b[0m)            │     \u001b[38;5;34m1,048,832\u001b[0m │\n",
              "├─────────────────────────────────┼────────────────────────┼───────────────┤\n",
              "│ dropout_2 (\u001b[38;5;33mDropout\u001b[0m)             │ (\u001b[38;5;45mNone\u001b[0m, \u001b[38;5;34m256\u001b[0m)            │             \u001b[38;5;34m0\u001b[0m │\n",
              "├─────────────────────────────────┼────────────────────────┼───────────────┤\n",
              "│ dense_1 (\u001b[38;5;33mDense\u001b[0m)                 │ (\u001b[38;5;45mNone\u001b[0m, \u001b[38;5;34m10\u001b[0m)             │         \u001b[38;5;34m2,570\u001b[0m │\n",
              "└─────────────────────────────────┴────────────────────────┴───────────────┘\n"
            ]
          },
          "metadata": {},
          "output_type": "display_data"
        },
        {
          "data": {
            "text/html": [
              "<pre style=\"white-space:pre;overflow-x:auto;line-height:normal;font-family:Menlo,'DejaVu Sans Mono',consolas,'Courier New',monospace\"><span style=\"font-weight: bold\"> Total params: </span><span style=\"color: #00af00; text-decoration-color: #00af00\">1,116,970</span> (4.26 MB)\n",
              "</pre>\n"
            ],
            "text/plain": [
              "\u001b[1m Total params: \u001b[0m\u001b[38;5;34m1,116,970\u001b[0m (4.26 MB)\n"
            ]
          },
          "metadata": {},
          "output_type": "display_data"
        },
        {
          "data": {
            "text/html": [
              "<pre style=\"white-space:pre;overflow-x:auto;line-height:normal;font-family:Menlo,'DejaVu Sans Mono',consolas,'Courier New',monospace\"><span style=\"font-weight: bold\"> Trainable params: </span><span style=\"color: #00af00; text-decoration-color: #00af00\">1,116,970</span> (4.26 MB)\n",
              "</pre>\n"
            ],
            "text/plain": [
              "\u001b[1m Trainable params: \u001b[0m\u001b[38;5;34m1,116,970\u001b[0m (4.26 MB)\n"
            ]
          },
          "metadata": {},
          "output_type": "display_data"
        },
        {
          "data": {
            "text/html": [
              "<pre style=\"white-space:pre;overflow-x:auto;line-height:normal;font-family:Menlo,'DejaVu Sans Mono',consolas,'Courier New',monospace\"><span style=\"font-weight: bold\"> Non-trainable params: </span><span style=\"color: #00af00; text-decoration-color: #00af00\">0</span> (0.00 B)\n",
              "</pre>\n"
            ],
            "text/plain": [
              "\u001b[1m Non-trainable params: \u001b[0m\u001b[38;5;34m0\u001b[0m (0.00 B)\n"
            ]
          },
          "metadata": {},
          "output_type": "display_data"
        }
      ],
      "source": [
        "num_classes = 10\n",
        "input_shape = (32, 32, 3)   # Input Layer\n",
        "model = models.Sequential([\n",
        "    layers.Input(shape=input_shape),\n",
        "\n",
        "    # Hidden layers (feature extractors)\n",
        "    layers.Conv2D(32, 3, padding=\"same\", activation=\"relu\"),\n",
        "    layers.Conv2D(32, 3, padding=\"same\", activation=\"relu\"),\n",
        "    layers.MaxPooling2D(),\n",
        "    layers.Dropout(0.25),\n",
        "\n",
        "    layers.Conv2D(64, 3, padding=\"same\", activation=\"relu\"),\n",
        "    layers.Conv2D(64, 3, padding=\"same\", activation=\"relu\"),\n",
        "    layers.MaxPooling2D(),\n",
        "    layers.Dropout(0.25),\n",
        "\n",
        "    layers.Flatten(),\n",
        "    layers.Dense(256, activation=\"relu\"),\n",
        "    layers.Dropout(0.5),\n",
        "\n",
        "    # Output Layer\n",
        "    layers.Dense(num_classes, activation=\"softmax\")\n",
        "])\n",
        "\n",
        "model.compile(optimizer=\"adam\",\n",
        "              loss=\"categorical_crossentropy\",\n",
        "              metrics=[\"accuracy\"])\n",
        "model.summary();"
      ]
    },
    {
      "cell_type": "code",
      "execution_count": 9,
      "metadata": {
        "colab": {
          "base_uri": "https://localhost:8080/"
        },
        "id": "rBAprEDydpyH",
        "outputId": "166858b4-d409-4220-f47b-77541efe2087"
      },
      "outputs": [
        {
          "name": "stdout",
          "output_type": "stream",
          "text": [
            "Epoch 1/10\n",
            "625/625 - 13s - 20ms/step - accuracy: 0.3922 - loss: 1.6663 - val_accuracy: 0.5550 - val_loss: 1.2466\n",
            "Epoch 2/10\n",
            "625/625 - 2s - 4ms/step - accuracy: 0.5527 - loss: 1.2457 - val_accuracy: 0.6339 - val_loss: 1.0301\n",
            "Epoch 3/10\n",
            "625/625 - 2s - 4ms/step - accuracy: 0.6133 - loss: 1.0835 - val_accuracy: 0.6777 - val_loss: 0.9110\n",
            "Epoch 4/10\n",
            "625/625 - 2s - 4ms/step - accuracy: 0.6569 - loss: 0.9745 - val_accuracy: 0.7083 - val_loss: 0.8262\n",
            "Epoch 5/10\n",
            "625/625 - 2s - 3ms/step - accuracy: 0.6836 - loss: 0.8962 - val_accuracy: 0.7227 - val_loss: 0.7895\n",
            "Epoch 6/10\n",
            "625/625 - 2s - 3ms/step - accuracy: 0.7066 - loss: 0.8371 - val_accuracy: 0.7370 - val_loss: 0.7491\n",
            "Epoch 7/10\n",
            "625/625 - 2s - 3ms/step - accuracy: 0.7223 - loss: 0.7908 - val_accuracy: 0.7370 - val_loss: 0.7471\n",
            "Epoch 8/10\n",
            "625/625 - 2s - 3ms/step - accuracy: 0.7359 - loss: 0.7448 - val_accuracy: 0.7312 - val_loss: 0.7654\n",
            "Epoch 9/10\n",
            "625/625 - 2s - 4ms/step - accuracy: 0.7477 - loss: 0.7157 - val_accuracy: 0.7584 - val_loss: 0.6949\n",
            "Epoch 10/10\n",
            "625/625 - 2s - 4ms/step - accuracy: 0.7624 - loss: 0.6724 - val_accuracy: 0.7674 - val_loss: 0.6754\n"
          ]
        }
      ],
      "source": [
        "history = model.fit(X_train, y_train,\n",
        "                    epochs=10,\n",
        "                    batch_size=64,\n",
        "                    validation_split=0.2,\n",
        "                    verbose=2)"
      ]
    },
    {
      "cell_type": "markdown",
      "metadata": {
        "id": "w8bY-rWZaAjY"
      },
      "source": [
        "# Evaluating the Model"
      ]
    },
    {
      "cell_type": "code",
      "execution_count": 35,
      "metadata": {
        "colab": {
          "base_uri": "https://localhost:8080/",
          "height": 927
        },
        "id": "ICPU8X4JgYPb",
        "outputId": "39dce385-cc96-4acb-d38f-4dd44b6a68d7"
      },
      "outputs": [
        {
          "data": {
            "image/png": "[encoded data removed]",
            "text/plain": [
              "<Figure size 640x480 with 1 Axes>"
            ]
          },
          "metadata": {},
          "output_type": "display_data"
        },
        {
          "data": {
            "image/png": "[encoded data removed]",
            "text/plain": [
              "<Figure size 640x480 with 1 Axes>"
            ]
          },
          "metadata": {},
          "output_type": "display_data"
        }
      ],
      "source": [
        "\n",
        "# Plot accuracy\n",
        "plt.plot(history.history['accuracy'], label='Training Accuracy')\n",
        "plt.plot(history.history['val_accuracy'], label='Validation Accuracy')\n",
        "plt.title('Model Accuracy')\n",
        "plt.xlabel('Epoch')\n",
        "plt.ylabel('Accuracy')\n",
        "plt.legend()\n",
        "plt.show()\n",
        "\n",
        "# Plot loss\n",
        "plt.plot(history.history['loss'], label='Training Loss')\n",
        "plt.plot(history.history['val_loss'], label='Validation Loss')\n",
        "plt.title('Model Loss')\n",
        "plt.xlabel('Epoch')\n",
        "plt.ylabel('Loss')\n",
        "plt.legend()\n",
        "plt.show()\n"
      ]
    },
    {
      "cell_type": "markdown",
      "metadata": {
        "id": "Rpq0IfbPbUrn"
      },
      "source": [
        "## For the Model Selection Project, you will STOP HERE!\n",
        "During Units 4, 5, and 6, we will explore and learn additional techniques, and then revisit these projects to apply the below:\n",
        "- Model evaluation and parameter tuning\n",
        "- Explanatory visualizations and package your results with data storytelling"
      ]
    },
    {
      "cell_type": "markdown",
      "metadata": {
        "id": "3Yfk2vtMbUrn"
      },
      "source": [
        "# Tuning Model Parameters (Completed in Unit 4)"
      ]
    },
    {
      "cell_type": "code",
      "execution_count": null,
      "metadata": {
        "colab": {
          "base_uri": "https://localhost:8080/"
        },
        "id": "_wm3yQxpbUrn",
        "outputId": "eb49fa1f-c862-44bd-93ee-8c1eafad12a4"
      },
      "outputs": [
        {
          "name": "stdout",
          "output_type": "stream",
          "text": [
            "Trial 8 Complete [00h 00m 33s]\n",
            "val_accuracy: 0.775600016117096\n",
            "\n",
            "Best val_accuracy So Far: 0.7878000140190125\n",
            "Total elapsed time: 00h 04m 07s\n",
            "Best hyperparameters: {'filters1': 64, 'filters2': 96, 'dense_units': 192, 'dropout': 0.5, 'lr': 0.0005}\n"
          ]
        }
      ],
      "source": [
        "#Insert Code Here\n",
        "\n",
        "\n",
        "def build_model(hp: kt.HyperParameters):\n",
        "    # Tunables\n",
        "    filters1 = hp.Choice(\"filters1\", [32, 48, 64])\n",
        "    filters2 = hp.Choice(\"filters2\", [64, 96, 128])\n",
        "    dense_units = hp.Choice(\"dense_units\", [128, 192, 256])\n",
        "    dropout = hp.Float(\"dropout\", 0.2, 0.6, step=0.1)\n",
        "    lr = hp.Choice(\"lr\", [1e-2, 5e-3, 1e-3, 5e-4])\n",
        "\n",
        "    model = models.Sequential([\n",
        "        layers.Input(shape=(32,32,3)),\n",
        "        layers.Conv2D(filters1, 3, padding=\"same\", activation=\"relu\"),\n",
        "        layers.Conv2D(filters1, 3, padding=\"same\", activation=\"relu\"),\n",
        "        layers.MaxPooling2D(),\n",
        "        layers.Conv2D(filters2, 3, padding=\"same\", activation=\"relu\"),\n",
        "        layers.Conv2D(filters2, 3, padding=\"same\", activation=\"relu\"),\n",
        "        layers.MaxPooling2D(),\n",
        "        layers.Flatten(),\n",
        "        layers.Dense(dense_units, activation=\"relu\"),\n",
        "        layers.Dropout(dropout),\n",
        "        layers.Dense(10, activation=\"softmax\"),\n",
        "    ])\n",
        "\n",
        "    model.compile(\n",
        "        optimizer=tf.keras.optimizers.Adam(learning_rate=lr),\n",
        "        loss=\"categorical_crossentropy\",\n",
        "        metrics=[\"accuracy\"],\n",
        "    )\n",
        "    return model\n",
        "\n",
        "tuner = kt.RandomSearch(\n",
        "    build_model,\n",
        "    objective=\"val_accuracy\",\n",
        "    max_trials=8,\n",
        "    executions_per_trial=1,\n",
        "    overwrite=True,\n",
        "    directory=\"kt_cifar10\",\n",
        "    project_name=\"cnn_tune\",\n",
        ")\n",
        "\n",
        "callbacks = [\n",
        "    tf.keras.callbacks.EarlyStopping(patience=3, restore_best_weights=True),\n",
        "    tf.keras.callbacks.ReduceLROnPlateau(patience=2, factor=0.5, verbose=1),\n",
        "]\n",
        "\n",
        "tuner.search(\n",
        "    X_train, y_train,\n",
        "    validation_split=0.2,\n",
        "    epochs=15,\n",
        "    batch_size=64,\n",
        "    callbacks=callbacks,\n",
        "    verbose=2\n",
        ")\n",
        "\n",
        "best_hp = tuner.get_best_hyperparameters(1)[0]\n",
        "best_model = tuner.get_best_models(1)[0]\n",
        "print(\"Best hyperparameters:\", {k: best_hp.get(k) for k in best_hp.values.keys()})\n"
      ]
    },
    {
      "cell_type": "markdown",
      "metadata": {
        "id": "Lac1k3BEbUro"
      },
      "source": [
        "# Evaluating the Tuned Model (Completed in Unit 4)"
      ]
    },
    {
      "cell_type": "code",
      "execution_count": null,
      "metadata": {
        "colab": {
          "base_uri": "https://localhost:8080/"
        },
        "id": "_HW7TGStbUro",
        "outputId": "7f861ba1-fe41-447b-d906-0a5668168cc7"
      },
      "outputs": [
        {
          "name": "stdout",
          "output_type": "stream",
          "text": [
            "Test accuracy: 0.7769   Test loss: 0.7826\n",
            "\n",
            "Classification report:\n",
            "              precision    recall  f1-score   support\n",
            "\n",
            "           0     0.8106    0.8260    0.8182      1000\n",
            "           1     0.9062    0.8690    0.8872      1000\n",
            "           2     0.6650    0.6610    0.6630      1000\n",
            "           3     0.5992    0.5980    0.5986      1000\n",
            "           4     0.7647    0.7020    0.7320      1000\n",
            "           5     0.6560    0.7190    0.6861      1000\n",
            "           6     0.8041    0.8580    0.8302      1000\n",
            "           7     0.8525    0.7860    0.8179      1000\n",
            "           8     0.8884    0.8760    0.8822      1000\n",
            "           9     0.8396    0.8740    0.8564      1000\n",
            "\n",
            "    accuracy                         0.7769     10000\n",
            "   macro avg     0.7786    0.7769    0.7772     10000\n",
            "weighted avg     0.7786    0.7769    0.7772     10000\n",
            "\n"
          ]
        }
      ],
      "source": [
        "#Insert Code Here\n",
        "\n",
        "# Evaluate on the test set\n",
        "test_loss, test_acc = best_model.evaluate(X_test, y_test, verbose=0)\n",
        "print(f\"Test accuracy: {test_acc:.4f}   Test loss: {test_loss:.4f}\")\n",
        "\n",
        "# Predictions\n",
        "y_prob = best_model.predict(X_test, verbose=0)\n",
        "y_pred = np.argmax(y_prob, axis=1)\n",
        "y_true = np.argmax(y_test, axis=1)\n",
        "\n",
        "print(\"\\nClassification report:\")\n",
        "print(classification_report(y_true, y_pred, digits=4))\n"
      ]
    },
    {
      "cell_type": "markdown",
      "metadata": {
        "id": "XhO0rNQQaCcv"
      },
      "source": [
        "# Visualizing Results (Completed in Units 4 and 6)"
      ]
    },
    {
      "cell_type": "code",
      "execution_count": null,
      "metadata": {
        "colab": {
          "base_uri": "https://localhost:8080/",
          "height": 1000
        },
        "id": "vLjL-E02aEA0",
        "outputId": "108b3c7b-b272-492b-dae6-b0dbbf2890b3"
      },
      "outputs": [
        {
          "name": "stdout",
          "output_type": "stream",
          "text": [
            "Epoch 1/10\n",
            "625/625 - 3s - 4ms/step - accuracy: 0.9143 - loss: 0.2315 - val_accuracy: 0.7800 - val_loss: 0.8591\n",
            "Epoch 2/10\n",
            "625/625 - 2s - 4ms/step - accuracy: 0.9171 - loss: 0.2259 - val_accuracy: 0.7834 - val_loss: 0.8515\n",
            "Epoch 3/10\n",
            "625/625 - 2s - 4ms/step - accuracy: 0.9254 - loss: 0.2056 - val_accuracy: 0.7766 - val_loss: 0.8999\n",
            "Epoch 4/10\n",
            "625/625 - 2s - 4ms/step - accuracy: 0.9283 - loss: 0.1983 - val_accuracy: 0.7739 - val_loss: 0.9275\n",
            "Epoch 5/10\n",
            "625/625 - 2s - 4ms/step - accuracy: 0.9316 - loss: 0.1911 - val_accuracy: 0.7835 - val_loss: 0.9262\n",
            "Epoch 6/10\n",
            "625/625 - 2s - 4ms/step - accuracy: 0.9345 - loss: 0.1798 - val_accuracy: 0.7794 - val_loss: 0.9599\n",
            "Epoch 7/10\n",
            "625/625 - 2s - 4ms/step - accuracy: 0.9382 - loss: 0.1695 - val_accuracy: 0.7821 - val_loss: 0.9674\n",
            "Epoch 8/10\n",
            "625/625 - 2s - 4ms/step - accuracy: 0.9424 - loss: 0.1580 - val_accuracy: 0.7785 - val_loss: 1.0512\n",
            "Epoch 9/10\n",
            "625/625 - 2s - 4ms/step - accuracy: 0.9442 - loss: 0.1527 - val_accuracy: 0.7713 - val_loss: 1.0270\n",
            "Epoch 10/10\n",
            "625/625 - 2s - 4ms/step - accuracy: 0.9463 - loss: 0.1512 - val_accuracy: 0.7803 - val_loss: 1.0484\n"
          ]
        },
        {
          "data": {
            "image/png": "[encoded data removed]",
            "text/plain": [
              "<Figure size 640x480 with 1 Axes>"
            ]
          },
          "metadata": {},
          "output_type": "display_data"
        },
        {
          "data": {
            "image/png": "[encoded data removed]",
            "text/plain": [
              "<Figure size 640x480 with 1 Axes>"
            ]
          },
          "metadata": {},
          "output_type": "display_data"
        },
        {
          "data": {
            "image/png": "[encoded data removed]",
            "text/plain": [
              "<Figure size 700x600 with 2 Axes>"
            ]
          },
          "metadata": {},
          "output_type": "display_data"
        }
      ],
      "source": [
        "#Insert Code Here\n",
        "\n",
        "# 1) Training curves from the last tuner run\n",
        "hist = best_model.fit(\n",
        "    X_train, y_train,\n",
        "    validation_split=0.2,\n",
        "    epochs=10,\n",
        "    batch_size=64,\n",
        "    verbose=2\n",
        ")\n",
        "\n",
        "plt.figure()\n",
        "plt.plot(hist.history[\"accuracy\"], label=\"train acc\")\n",
        "plt.plot(hist.history[\"val_accuracy\"], label=\"val acc\")\n",
        "plt.xlabel(\"Epoch\"); plt.ylabel(\"Accuracy\"); plt.title(\"Accuracy vs Epoch\"); plt.legend(); plt.show()\n",
        "\n",
        "plt.figure()\n",
        "plt.plot(hist.history[\"loss\"], label=\"train loss\")\n",
        "plt.plot(hist.history[\"val_loss\"], label=\"val loss\")\n",
        "plt.xlabel(\"Epoch\"); plt.ylabel(\"Loss\"); plt.title(\"Loss vs Epoch\"); plt.legend(); plt.show()\n",
        "\n",
        "# 2) Confusion matrix\n",
        "cm = confusion_matrix(y_true, y_pred)\n",
        "classes = [\"airplane\",\"automobile\",\"bird\",\"cat\",\"deer\",\"dog\",\"frog\",\"horse\",\"ship\",\"truck\"]\n",
        "\n",
        "plt.figure(figsize=(7,6))\n",
        "plt.imshow(cm, interpolation=\"nearest\")\n",
        "plt.title(\"Confusion Matrix\"); plt.colorbar()\n",
        "tick_marks = np.arange(len(classes))\n",
        "plt.xticks(tick_marks, classes, rotation=45, ha=\"right\"); plt.yticks(tick_marks, classes)\n",
        "\n",
        "# annotate cells\n",
        "thresh = cm.max() / 2\n",
        "for i, j in itertools.product(range(cm.shape[0]), range(cm.shape[1])):\n",
        "    plt.text(j, i, cm[i, j], ha=\"center\",\n",
        "             color=\"white\" if cm[i, j] > thresh else \"black\", fontsize=8)\n",
        "\n",
        "plt.ylabel(\"True label\"); plt.xlabel(\"Predicted label\")\n",
        "plt.tight_layout(); plt.show()\n"
      ]
    },
    {
      "cell_type": "markdown",
      "metadata": {
        "id": "qOmez3bfbUro"
      },
      "source": [
        "***\n",
        "***\n",
        "***"
      ]
    },
    {
      "cell_type": "markdown",
      "metadata": {
        "id": "QHfZwMzraFpO"
      },
      "source": [
        "# Part 2: California Housing Dataset - Numerical Based"
      ]
    },
    {
      "cell_type": "markdown",
      "metadata": {
        "id": "aItePM1QaOvS"
      },
      "source": [
        "# The Dataset"
      ]
    },
    {
      "cell_type": "code",
      "execution_count": 42,
      "metadata": {
        "id": "ftZraZvMaI-U"
      },
      "outputs": [],
      "source": [
        "# Load the California Housing Prices dataset\n",
        "from sklearn.datasets import fetch_california_housing\n",
        "data = fetch_california_housing()\n",
        "X, y = data.data, data.target\n",
        "\n"
      ]
    },
    {
      "cell_type": "markdown",
      "metadata": {
        "id": "slAZp2r1apSq"
      },
      "source": [
        "# Data Preprocessing"
      ]
    },
    {
      "cell_type": "code",
      "execution_count": 43,
      "metadata": {
        "colab": {
          "base_uri": "https://localhost:8080/"
        },
        "id": "MSEfObQsbPtN",
        "outputId": "09d6ae99-4213-441b-fca0-20bb27c77411"
      },
      "outputs": [
        {
          "name": "stdout",
          "output_type": "stream",
          "text": [
            "X shape: (20640, 8)  y shape: (20640,)\n",
            "Missing values per feature: [0 0 0 0 0 0 0 0]\n"
          ]
        }
      ],
      "source": [
        "#Insert Code Here\n",
        "print(\"X shape:\", X.shape, \" y shape:\", y.shape)\n",
        "\n",
        "print(\"Missing values per feature:\", np.isnan(X).sum(axis=0))"
      ]
    },
    {
      "cell_type": "markdown",
      "metadata": {
        "id": "Dnh1d6VVkJoG"
      },
      "source": [
        "No missing value"
      ]
    },
    {
      "cell_type": "code",
      "execution_count": 44,
      "metadata": {
        "id": "zj0JZNH8kJFI"
      },
      "outputs": [],
      "source": [
        "X_train, X_test, y_train, y_test = train_test_split(\n",
        "    X, y, test_size=0.2, random_state=9999999\n",
        ")\n"
      ]
    },
    {
      "cell_type": "code",
      "execution_count": 46,
      "metadata": {
        "colab": {
          "base_uri": "https://localhost:8080/"
        },
        "id": "AvIx6FynkZpt",
        "outputId": "027cc1b1-b65b-4520-d3cf-135cb7f1ca9a"
      },
      "outputs": [
        {
          "data": {
            "text/plain": [
              "np.float64(35682.0)"
            ]
          },
          "execution_count": 46,
          "metadata": {},
          "output_type": "execute_result"
        }
      ],
      "source": [
        "X_train.max()"
      ]
    },
    {
      "cell_type": "code",
      "execution_count": 47,
      "metadata": {
        "colab": {
          "base_uri": "https://localhost:8080/"
        },
        "id": "hZTHXgPJkcYy",
        "outputId": "e23ff967-9c03-40d9-bd7c-1f5465e7d281"
      },
      "outputs": [
        {
          "data": {
            "text/plain": [
              "np.float64(5.00001)"
            ]
          },
          "execution_count": 47,
          "metadata": {},
          "output_type": "execute_result"
        }
      ],
      "source": [
        "\n",
        "y_train.max()"
      ]
    },
    {
      "cell_type": "code",
      "execution_count": 54,
      "metadata": {
        "id": "1BDIwyFFkkVo"
      },
      "outputs": [],
      "source": [
        "scaler = StandardScaler()\n",
        "\n",
        "X_train_s = scaler.fit_transform(X_train)\n",
        "X_test_s = scaler.transform(X_test)"
      ]
    },
    {
      "cell_type": "code",
      "execution_count": 55,
      "metadata": {
        "colab": {
          "base_uri": "https://localhost:8080/"
        },
        "id": "C3r47SIrkq7C",
        "outputId": "10a30247-0ef7-44f3-8a9d-96ad54fcf6ca"
      },
      "outputs": [
        {
          "data": {
            "text/plain": [
              "np.float64(35682.0)"
            ]
          },
          "execution_count": 55,
          "metadata": {},
          "output_type": "execute_result"
        }
      ],
      "source": [
        "\n",
        "X_train.max()"
      ]
    },
    {
      "cell_type": "code",
      "execution_count": 56,
      "metadata": {
        "colab": {
          "base_uri": "https://localhost:8080/"
        },
        "id": "0w7dlhaxklqd",
        "outputId": "8b15c2a2-b6fc-4372-b001-ab6e7b7ef5b4"
      },
      "outputs": [
        {
          "name": "stdout",
          "output_type": "stream",
          "text": [
            "After scaling:\n",
            "  Train mean (approx): [-3.95198248e-15  1.96064095e-17 -2.64142915e-15  4.80213986e-15\n",
            "  7.87231633e-17  5.43264502e-16  2.10542044e-14 -2.84745513e-14]\n",
            "  Train std  (approx): [1.00121388 0.99975783 0.87995642 0.82587143 0.93143074 0.08305327\n",
            " 1.00421874 0.99963509]\n"
          ]
        }
      ],
      "source": [
        "print(\"After scaling:\")\n",
        "print(\"  Train mean (approx):\", X_train_s.mean(axis=0))\n",
        "print(\"  Train std  (approx):\", X_test_s.std(axis=0))"
      ]
    },
    {
      "cell_type": "code",
      "execution_count": null,
      "metadata": {
        "id": "Sv1NK9JDlBG7"
      },
      "outputs": [],
      "source": []
    },
    {
      "cell_type": "markdown",
      "metadata": {
        "id": "LpF7tlSKaQZ4"
      },
      "source": [
        "# Building the ANN Model"
      ]
    },
    {
      "cell_type": "code",
      "execution_count": 57,
      "metadata": {
        "colab": {
          "base_uri": "https://localhost:8080/"
        },
        "id": "VhWN6-ujaSeW",
        "outputId": "342c45fc-2d72-471a-db48-8ab2a0dc83f5"
      },
      "outputs": [
        {
          "name": "stdout",
          "output_type": "stream",
          "text": [
            "Epoch 1/100\n",
            "207/207 - 8s - 39ms/step - loss: 1.0428 - mae: 0.7004 - rmse: 1.0212 - val_loss: 0.5183 - val_mae: 0.5023 - val_rmse: 0.7199 - learning_rate: 1.0000e-03\n",
            "Epoch 2/100\n",
            "207/207 - 1s - 3ms/step - loss: 0.4981 - mae: 0.4969 - rmse: 0.7058 - val_loss: 0.4047 - val_mae: 0.4652 - val_rmse: 0.6362 - learning_rate: 1.0000e-03\n",
            "Epoch 3/100\n",
            "207/207 - 1s - 3ms/step - loss: 0.4435 - mae: 0.4727 - rmse: 0.6660 - val_loss: 0.3806 - val_mae: 0.4510 - val_rmse: 0.6169 - learning_rate: 1.0000e-03\n",
            "Epoch 4/100\n",
            "207/207 - 1s - 3ms/step - loss: 0.4198 - mae: 0.4591 - rmse: 0.6479 - val_loss: 0.3669 - val_mae: 0.4317 - val_rmse: 0.6057 - learning_rate: 1.0000e-03\n",
            "Epoch 5/100\n",
            "207/207 - 1s - 3ms/step - loss: 0.4062 - mae: 0.4489 - rmse: 0.6374 - val_loss: 0.3540 - val_mae: 0.4196 - val_rmse: 0.5950 - learning_rate: 1.0000e-03\n",
            "Epoch 6/100\n",
            "207/207 - 1s - 3ms/step - loss: 0.3801 - mae: 0.4357 - rmse: 0.6166 - val_loss: 0.3401 - val_mae: 0.4106 - val_rmse: 0.5832 - learning_rate: 1.0000e-03\n",
            "Epoch 7/100\n",
            "207/207 - 1s - 3ms/step - loss: 0.3680 - mae: 0.4279 - rmse: 0.6066 - val_loss: 0.3255 - val_mae: 0.4000 - val_rmse: 0.5705 - learning_rate: 1.0000e-03\n",
            "Epoch 8/100\n",
            "207/207 - 1s - 3ms/step - loss: 0.3579 - mae: 0.4221 - rmse: 0.5982 - val_loss: 0.3178 - val_mae: 0.3943 - val_rmse: 0.5637 - learning_rate: 1.0000e-03\n",
            "Epoch 9/100\n",
            "207/207 - 1s - 3ms/step - loss: 0.3556 - mae: 0.4180 - rmse: 0.5963 - val_loss: 0.3352 - val_mae: 0.3944 - val_rmse: 0.5790 - learning_rate: 1.0000e-03\n",
            "Epoch 10/100\n",
            "207/207 - 1s - 3ms/step - loss: 0.3376 - mae: 0.4066 - rmse: 0.5811 - val_loss: 0.3121 - val_mae: 0.3960 - val_rmse: 0.5586 - learning_rate: 1.0000e-03\n",
            "Epoch 11/100\n",
            "207/207 - 1s - 3ms/step - loss: 0.3435 - mae: 0.4064 - rmse: 0.5860 - val_loss: 0.3152 - val_mae: 0.3852 - val_rmse: 0.5614 - learning_rate: 1.0000e-03\n",
            "Epoch 12/100\n",
            "207/207 - 1s - 3ms/step - loss: 0.3334 - mae: 0.4018 - rmse: 0.5774 - val_loss: 0.3046 - val_mae: 0.3851 - val_rmse: 0.5519 - learning_rate: 1.0000e-03\n",
            "Epoch 13/100\n",
            "207/207 - 1s - 3ms/step - loss: 0.3313 - mae: 0.3992 - rmse: 0.5756 - val_loss: 0.3116 - val_mae: 0.3819 - val_rmse: 0.5582 - learning_rate: 1.0000e-03\n",
            "Epoch 14/100\n",
            "207/207 - 1s - 3ms/step - loss: 0.3266 - mae: 0.3953 - rmse: 0.5715 - val_loss: 0.2990 - val_mae: 0.3818 - val_rmse: 0.5469 - learning_rate: 1.0000e-03\n",
            "Epoch 15/100\n",
            "207/207 - 1s - 3ms/step - loss: 0.3237 - mae: 0.3947 - rmse: 0.5690 - val_loss: 0.2976 - val_mae: 0.3827 - val_rmse: 0.5455 - learning_rate: 1.0000e-03\n",
            "Epoch 16/100\n",
            "207/207 - 1s - 3ms/step - loss: 0.3160 - mae: 0.3908 - rmse: 0.5621 - val_loss: 0.3100 - val_mae: 0.3835 - val_rmse: 0.5568 - learning_rate: 1.0000e-03\n",
            "Epoch 17/100\n",
            "207/207 - 1s - 3ms/step - loss: 0.3173 - mae: 0.3896 - rmse: 0.5633 - val_loss: 0.3038 - val_mae: 0.3753 - val_rmse: 0.5512 - learning_rate: 1.0000e-03\n",
            "Epoch 18/100\n",
            "207/207 - 1s - 3ms/step - loss: 0.3135 - mae: 0.3872 - rmse: 0.5600 - val_loss: 0.2926 - val_mae: 0.3815 - val_rmse: 0.5409 - learning_rate: 1.0000e-03\n",
            "Epoch 19/100\n",
            "207/207 - 1s - 3ms/step - loss: 0.3119 - mae: 0.3866 - rmse: 0.5585 - val_loss: 0.3067 - val_mae: 0.3874 - val_rmse: 0.5538 - learning_rate: 1.0000e-03\n",
            "Epoch 20/100\n",
            "207/207 - 1s - 3ms/step - loss: 0.3105 - mae: 0.3853 - rmse: 0.5572 - val_loss: 0.2933 - val_mae: 0.3756 - val_rmse: 0.5416 - learning_rate: 1.0000e-03\n",
            "Epoch 21/100\n",
            "207/207 - 1s - 3ms/step - loss: 0.3080 - mae: 0.3847 - rmse: 0.5550 - val_loss: 0.2870 - val_mae: 0.3746 - val_rmse: 0.5357 - learning_rate: 1.0000e-03\n",
            "Epoch 22/100\n",
            "207/207 - 1s - 3ms/step - loss: 0.3017 - mae: 0.3790 - rmse: 0.5493 - val_loss: 0.2934 - val_mae: 0.3718 - val_rmse: 0.5416 - learning_rate: 1.0000e-03\n",
            "Epoch 23/100\n",
            "207/207 - 1s - 3ms/step - loss: 0.3038 - mae: 0.3809 - rmse: 0.5512 - val_loss: 0.2940 - val_mae: 0.3890 - val_rmse: 0.5422 - learning_rate: 1.0000e-03\n",
            "Epoch 24/100\n",
            "207/207 - 1s - 3ms/step - loss: 0.3006 - mae: 0.3764 - rmse: 0.5483 - val_loss: 0.2861 - val_mae: 0.3837 - val_rmse: 0.5349 - learning_rate: 1.0000e-03\n",
            "Epoch 25/100\n",
            "207/207 - 1s - 3ms/step - loss: 0.2989 - mae: 0.3778 - rmse: 0.5467 - val_loss: 0.2873 - val_mae: 0.3781 - val_rmse: 0.5360 - learning_rate: 1.0000e-03\n",
            "Epoch 26/100\n",
            "207/207 - 1s - 3ms/step - loss: 0.2977 - mae: 0.3776 - rmse: 0.5456 - val_loss: 0.2799 - val_mae: 0.3651 - val_rmse: 0.5290 - learning_rate: 1.0000e-03\n",
            "Epoch 27/100\n",
            "207/207 - 1s - 3ms/step - loss: 0.2920 - mae: 0.3746 - rmse: 0.5403 - val_loss: 0.2913 - val_mae: 0.3701 - val_rmse: 0.5398 - learning_rate: 1.0000e-03\n",
            "Epoch 28/100\n",
            "207/207 - 1s - 3ms/step - loss: 0.2903 - mae: 0.3697 - rmse: 0.5388 - val_loss: 0.2919 - val_mae: 0.3662 - val_rmse: 0.5402 - learning_rate: 1.0000e-03\n",
            "Epoch 29/100\n",
            "\n",
            "Epoch 29: ReduceLROnPlateau reducing learning rate to 0.0005000000237487257.\n",
            "207/207 - 1s - 3ms/step - loss: 0.2900 - mae: 0.3707 - rmse: 0.5386 - val_loss: 0.2911 - val_mae: 0.3868 - val_rmse: 0.5396 - learning_rate: 1.0000e-03\n",
            "Epoch 30/100\n",
            "207/207 - 1s - 3ms/step - loss: 0.2793 - mae: 0.3623 - rmse: 0.5285 - val_loss: 0.2704 - val_mae: 0.3571 - val_rmse: 0.5200 - learning_rate: 5.0000e-04\n",
            "Epoch 31/100\n",
            "207/207 - 1s - 3ms/step - loss: 0.2813 - mae: 0.3640 - rmse: 0.5304 - val_loss: 0.2736 - val_mae: 0.3546 - val_rmse: 0.5231 - learning_rate: 5.0000e-04\n",
            "Epoch 32/100\n",
            "207/207 - 1s - 3ms/step - loss: 0.2776 - mae: 0.3614 - rmse: 0.5269 - val_loss: 0.2727 - val_mae: 0.3573 - val_rmse: 0.5222 - learning_rate: 5.0000e-04\n",
            "Epoch 33/100\n",
            "\n",
            "Epoch 33: ReduceLROnPlateau reducing learning rate to 0.0002500000118743628.\n",
            "207/207 - 1s - 3ms/step - loss: 0.2779 - mae: 0.3629 - rmse: 0.5271 - val_loss: 0.2718 - val_mae: 0.3544 - val_rmse: 0.5214 - learning_rate: 5.0000e-04\n",
            "Epoch 34/100\n",
            "207/207 - 1s - 3ms/step - loss: 0.2713 - mae: 0.3573 - rmse: 0.5208 - val_loss: 0.2693 - val_mae: 0.3531 - val_rmse: 0.5189 - learning_rate: 2.5000e-04\n",
            "Epoch 35/100\n",
            "207/207 - 1s - 3ms/step - loss: 0.2705 - mae: 0.3571 - rmse: 0.5201 - val_loss: 0.2693 - val_mae: 0.3580 - val_rmse: 0.5189 - learning_rate: 2.5000e-04\n",
            "Epoch 36/100\n",
            "207/207 - 1s - 3ms/step - loss: 0.2703 - mae: 0.3576 - rmse: 0.5199 - val_loss: 0.2695 - val_mae: 0.3548 - val_rmse: 0.5191 - learning_rate: 2.5000e-04\n",
            "Epoch 37/100\n",
            "\n",
            "Epoch 37: ReduceLROnPlateau reducing learning rate to 0.0001250000059371814.\n",
            "207/207 - 1s - 3ms/step - loss: 0.2747 - mae: 0.3580 - rmse: 0.5241 - val_loss: 0.2720 - val_mae: 0.3647 - val_rmse: 0.5215 - learning_rate: 2.5000e-04\n",
            "Epoch 38/100\n",
            "207/207 - 1s - 3ms/step - loss: 0.2696 - mae: 0.3570 - rmse: 0.5192 - val_loss: 0.2679 - val_mae: 0.3542 - val_rmse: 0.5176 - learning_rate: 1.2500e-04\n",
            "Epoch 39/100\n",
            "207/207 - 1s - 3ms/step - loss: 0.2668 - mae: 0.3531 - rmse: 0.5166 - val_loss: 0.2676 - val_mae: 0.3533 - val_rmse: 0.5173 - learning_rate: 1.2500e-04\n",
            "Epoch 40/100\n",
            "207/207 - 1s - 3ms/step - loss: 0.2679 - mae: 0.3547 - rmse: 0.5176 - val_loss: 0.2686 - val_mae: 0.3520 - val_rmse: 0.5182 - learning_rate: 1.2500e-04\n",
            "Epoch 41/100\n",
            "207/207 - 1s - 3ms/step - loss: 0.2650 - mae: 0.3541 - rmse: 0.5148 - val_loss: 0.2671 - val_mae: 0.3540 - val_rmse: 0.5169 - learning_rate: 1.2500e-04\n",
            "Epoch 42/100\n",
            "207/207 - 1s - 3ms/step - loss: 0.2641 - mae: 0.3528 - rmse: 0.5139 - val_loss: 0.2674 - val_mae: 0.3524 - val_rmse: 0.5171 - learning_rate: 1.2500e-04\n",
            "Epoch 43/100\n",
            "207/207 - 1s - 3ms/step - loss: 0.2669 - mae: 0.3548 - rmse: 0.5166 - val_loss: 0.2666 - val_mae: 0.3517 - val_rmse: 0.5163 - learning_rate: 1.2500e-04\n",
            "Epoch 44/100\n",
            "207/207 - 1s - 3ms/step - loss: 0.2653 - mae: 0.3524 - rmse: 0.5150 - val_loss: 0.2668 - val_mae: 0.3538 - val_rmse: 0.5165 - learning_rate: 1.2500e-04\n",
            "Epoch 45/100\n",
            "207/207 - 1s - 3ms/step - loss: 0.2670 - mae: 0.3539 - rmse: 0.5167 - val_loss: 0.2662 - val_mae: 0.3511 - val_rmse: 0.5159 - learning_rate: 1.2500e-04\n",
            "Epoch 46/100\n",
            "207/207 - 1s - 3ms/step - loss: 0.2644 - mae: 0.3529 - rmse: 0.5142 - val_loss: 0.2658 - val_mae: 0.3525 - val_rmse: 0.5156 - learning_rate: 1.2500e-04\n",
            "Epoch 47/100\n",
            "207/207 - 1s - 3ms/step - loss: 0.2645 - mae: 0.3538 - rmse: 0.5143 - val_loss: 0.2660 - val_mae: 0.3506 - val_rmse: 0.5157 - learning_rate: 1.2500e-04\n",
            "Epoch 48/100\n",
            "207/207 - 1s - 3ms/step - loss: 0.2645 - mae: 0.3533 - rmse: 0.5143 - val_loss: 0.2672 - val_mae: 0.3505 - val_rmse: 0.5169 - learning_rate: 1.2500e-04\n",
            "Epoch 49/100\n",
            "\n",
            "Epoch 49: ReduceLROnPlateau reducing learning rate to 6.25000029685907e-05.\n",
            "207/207 - 1s - 3ms/step - loss: 0.2628 - mae: 0.3512 - rmse: 0.5127 - val_loss: 0.2674 - val_mae: 0.3517 - val_rmse: 0.5171 - learning_rate: 1.2500e-04\n",
            "Epoch 50/100\n",
            "207/207 - 1s - 3ms/step - loss: 0.2605 - mae: 0.3495 - rmse: 0.5104 - val_loss: 0.2666 - val_mae: 0.3494 - val_rmse: 0.5164 - learning_rate: 6.2500e-05\n",
            "Epoch 51/100\n",
            "207/207 - 1s - 3ms/step - loss: 0.2610 - mae: 0.3480 - rmse: 0.5109 - val_loss: 0.2654 - val_mae: 0.3510 - val_rmse: 0.5152 - learning_rate: 6.2500e-05\n",
            "Epoch 52/100\n",
            "207/207 - 1s - 3ms/step - loss: 0.2611 - mae: 0.3498 - rmse: 0.5110 - val_loss: 0.2647 - val_mae: 0.3519 - val_rmse: 0.5145 - learning_rate: 6.2500e-05\n",
            "Epoch 53/100\n",
            "207/207 - 1s - 3ms/step - loss: 0.2620 - mae: 0.3510 - rmse: 0.5118 - val_loss: 0.2656 - val_mae: 0.3503 - val_rmse: 0.5153 - learning_rate: 6.2500e-05\n",
            "Epoch 54/100\n",
            "207/207 - 1s - 3ms/step - loss: 0.2648 - mae: 0.3505 - rmse: 0.5146 - val_loss: 0.2650 - val_mae: 0.3511 - val_rmse: 0.5147 - learning_rate: 6.2500e-05\n",
            "Epoch 55/100\n",
            "\n",
            "Epoch 55: ReduceLROnPlateau reducing learning rate to 3.125000148429535e-05.\n",
            "207/207 - 1s - 3ms/step - loss: 0.2645 - mae: 0.3513 - rmse: 0.5143 - val_loss: 0.2647 - val_mae: 0.3507 - val_rmse: 0.5145 - learning_rate: 6.2500e-05\n",
            "Epoch 56/100\n",
            "207/207 - 1s - 3ms/step - loss: 0.2600 - mae: 0.3494 - rmse: 0.5099 - val_loss: 0.2653 - val_mae: 0.3501 - val_rmse: 0.5151 - learning_rate: 3.1250e-05\n",
            "Epoch 57/100\n",
            "207/207 - 1s - 3ms/step - loss: 0.2620 - mae: 0.3494 - rmse: 0.5118 - val_loss: 0.2646 - val_mae: 0.3497 - val_rmse: 0.5144 - learning_rate: 3.1250e-05\n",
            "Epoch 58/100\n",
            "\n",
            "Epoch 58: ReduceLROnPlateau reducing learning rate to 1.5625000742147677e-05.\n",
            "207/207 - 1s - 3ms/step - loss: 0.2602 - mae: 0.3491 - rmse: 0.5101 - val_loss: 0.2646 - val_mae: 0.3488 - val_rmse: 0.5144 - learning_rate: 3.1250e-05\n",
            "Epoch 59/100\n",
            "207/207 - 1s - 3ms/step - loss: 0.2639 - mae: 0.3492 - rmse: 0.5137 - val_loss: 0.2646 - val_mae: 0.3494 - val_rmse: 0.5144 - learning_rate: 1.5625e-05\n",
            "Epoch 60/100\n",
            "207/207 - 1s - 3ms/step - loss: 0.2601 - mae: 0.3490 - rmse: 0.5100 - val_loss: 0.2644 - val_mae: 0.3497 - val_rmse: 0.5142 - learning_rate: 1.5625e-05\n",
            "Epoch 61/100\n",
            "207/207 - 1s - 3ms/step - loss: 0.2603 - mae: 0.3488 - rmse: 0.5102 - val_loss: 0.2648 - val_mae: 0.3497 - val_rmse: 0.5146 - learning_rate: 1.5625e-05\n",
            "Epoch 62/100\n",
            "207/207 - 1s - 3ms/step - loss: 0.2635 - mae: 0.3521 - rmse: 0.5133 - val_loss: 0.2645 - val_mae: 0.3496 - val_rmse: 0.5143 - learning_rate: 1.5625e-05\n",
            "Epoch 63/100\n",
            "\n",
            "Epoch 63: ReduceLROnPlateau reducing learning rate to 7.812500371073838e-06.\n",
            "207/207 - 1s - 3ms/step - loss: 0.2622 - mae: 0.3495 - rmse: 0.5121 - val_loss: 0.2644 - val_mae: 0.3501 - val_rmse: 0.5142 - learning_rate: 1.5625e-05\n",
            "Epoch 64/100\n",
            "207/207 - 1s - 3ms/step - loss: 0.2615 - mae: 0.3497 - rmse: 0.5113 - val_loss: 0.2643 - val_mae: 0.3501 - val_rmse: 0.5141 - learning_rate: 7.8125e-06\n",
            "Epoch 65/100\n",
            "207/207 - 1s - 3ms/step - loss: 0.2627 - mae: 0.3500 - rmse: 0.5125 - val_loss: 0.2646 - val_mae: 0.3501 - val_rmse: 0.5144 - learning_rate: 7.8125e-06\n",
            "Epoch 66/100\n",
            "\n",
            "Epoch 66: ReduceLROnPlateau reducing learning rate to 3.906250185536919e-06.\n",
            "207/207 - 1s - 3ms/step - loss: 0.2627 - mae: 0.3504 - rmse: 0.5126 - val_loss: 0.2645 - val_mae: 0.3502 - val_rmse: 0.5143 - learning_rate: 7.8125e-06\n",
            "Epoch 67/100\n",
            "207/207 - 1s - 3ms/step - loss: 0.2610 - mae: 0.3492 - rmse: 0.5109 - val_loss: 0.2645 - val_mae: 0.3501 - val_rmse: 0.5143 - learning_rate: 3.9063e-06\n",
            "Epoch 68/100\n",
            "207/207 - 1s - 3ms/step - loss: 0.2612 - mae: 0.3515 - rmse: 0.5111 - val_loss: 0.2645 - val_mae: 0.3500 - val_rmse: 0.5143 - learning_rate: 3.9063e-06\n",
            "Epoch 69/100\n",
            "\n",
            "Epoch 69: ReduceLROnPlateau reducing learning rate to 1.9531250927684596e-06.\n",
            "207/207 - 1s - 3ms/step - loss: 0.2621 - mae: 0.3502 - rmse: 0.5120 - val_loss: 0.2644 - val_mae: 0.3499 - val_rmse: 0.5142 - learning_rate: 3.9063e-06\n"
          ]
        }
      ],
      "source": [
        "#Insert Code Here\n",
        "\n",
        "\n",
        "model = models.Sequential([\n",
        "    layers.Input(shape=(X_train_s.shape[1],)),  # 8 features\n",
        "    layers.Dense(128, activation=\"relu\"),\n",
        "    layers.Dropout(0.1),\n",
        "    layers.Dense(64, activation=\"relu\"),\n",
        "    layers.Dropout(0.1),\n",
        "    layers.Dense(32, activation=\"relu\"),\n",
        "    layers.Dense(1, activation=\"linear\")        # regression output\n",
        "])\n",
        "\n",
        "model.compile(\n",
        "    optimizer=tf.keras.optimizers.Adam(learning_rate=1e-3),\n",
        "    loss=\"mse\",                                  # on the (optionally) scaled target\n",
        "    metrics=[tf.keras.metrics.MeanAbsoluteError(name=\"mae\"),\n",
        "             tf.keras.metrics.RootMeanSquaredError(name=\"rmse\")]\n",
        ")\n",
        "\n",
        "callbacks = [\n",
        "    tf.keras.callbacks.EarlyStopping(patience=5, restore_best_weights=True),\n",
        "    tf.keras.callbacks.ReduceLROnPlateau(patience=3, factor=0.5, verbose=1),\n",
        "]\n",
        "\n",
        "history = model.fit(\n",
        "    X_train_s, y_train,\n",
        "    validation_split=0.2,\n",
        "    epochs=100,\n",
        "    batch_size=64,\n",
        "    callbacks=callbacks,\n",
        "    verbose=2\n",
        ")\n"
      ]
    },
    {
      "cell_type": "markdown",
      "metadata": {
        "id": "bAGz7H3waUQm"
      },
      "source": [
        "# Evaluating the Model"
      ]
    },
    {
      "cell_type": "code",
      "execution_count": 60,
      "metadata": {
        "colab": {
          "base_uri": "https://localhost:8080/"
        },
        "id": "ENCoPpeGaVkc",
        "outputId": "ddfbf9eb-80c3-4ed5-cc8c-51cc9ad60a05"
      },
      "outputs": [
        {
          "name": "stdout",
          "output_type": "stream",
          "text": [
            "Test MAE : 0.337\n",
            "Test MSE : 0.244\n",
            "Test RMSE: 0.494\n",
            "Test R2  : 0.816\n"
          ]
        }
      ],
      "source": [
        "y_pred = model.predict(X_test_s, verbose=0).ravel()\n",
        "\n",
        "mse  = mean_squared_error(y_test, y_pred)\n",
        "rmse = np.sqrt(mse)\n",
        "mae  = mean_absolute_error(y_test, y_pred)\n",
        "r2   = r2_score(y_test, y_pred)\n",
        "\n",
        "print(f\"Test MAE : {mae:.3f}\")\n",
        "print(f\"Test MSE : {mse:.3f}\")\n",
        "print(f\"Test RMSE: {rmse:.3f}\")\n",
        "print(f\"Test R2  : {r2:.3f}\")"
      ]
    },
    {
      "cell_type": "markdown",
      "metadata": {
        "id": "zW1cErGrbUrp"
      },
      "source": [
        "## For the Model Selection Project, you will STOP HERE!\n",
        "During Units 4, 5, and 6, we will explore and learn additional techniques, and then revisit these projects to apply the below:\n",
        "- Model evaluation and parameter tuning\n",
        "- Explanatory visualizations and package your results with data storytelling"
      ]
    },
    {
      "cell_type": "markdown",
      "metadata": {
        "id": "qa8PQxkkbUrp"
      },
      "source": [
        "# Tuning Model Parameters (Completed in Unit 4)"
      ]
    },
    {
      "cell_type": "code",
      "execution_count": null,
      "metadata": {
        "id": "Hbu9xLD3bUrp"
      },
      "outputs": [],
      "source": [
        "#Insert Code Here"
      ]
    },
    {
      "cell_type": "markdown",
      "metadata": {
        "id": "p2WL3BvubUrp"
      },
      "source": [
        "# Evaluating the Tuned Model (Completed in Unit 4)"
      ]
    },
    {
      "cell_type": "code",
      "execution_count": null,
      "metadata": {
        "id": "ZcL6ol3sbUrq"
      },
      "outputs": [],
      "source": [
        "#Insert Code Here"
      ]
    },
    {
      "cell_type": "markdown",
      "metadata": {
        "id": "UpbaXN_faWAu"
      },
      "source": [
        "# Visualizing Results (Completed in Units 4 and 6)"
      ]
    },
    {
      "cell_type": "code",
      "execution_count": null,
      "metadata": {
        "id": "qZ45d8xgaXCz"
      },
      "outputs": [],
      "source": [
        "#Insert Code Here"
      ]
    }
  ],
  "metadata": {
    "accelerator": "GPU",
    "colab": {
      "gpuType": "A100",
      "provenance": []
    },
    "kernelspec": {
      "display_name": "Python 3",
      "name": "python3"
    },
    "language_info": {
      "codemirror_mode": {
        "name": "ipython",
        "version": 3
      },
      "file_extension": ".py",
      "mimetype": "text/x-python",
      "name": "python",
      "nbconvert_exporter": "python",
      "pygments_lexer": "ipython3",
      "version": "3.9.18"
    }
  },
  "nbformat": 4,
  "nbformat_minor": 0
}
