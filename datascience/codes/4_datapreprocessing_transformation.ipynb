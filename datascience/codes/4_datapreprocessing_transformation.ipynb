{
 "cells": [
  {
   "cell_type": "code",
   "execution_count": null,
   "id": "c92117a0",
   "metadata": {},
   "outputs": [
    {
     "name": "stdout",
     "output_type": "stream",
     "text": [
      "Original shape: (1140, 40)\n",
      "\n",
      "Standardized numerical columns\n",
      "One-hot encoded 'stadium'\n",
      "Label encoded 'Home Team'\n",
      "Label encoded 'Away Team'\n",
      "Created new features: 'goal_diff', 'total_goals'\n",
      "\n",
      "Transformed dataset saved as 'mydata_transformed.csv'\n",
      "Final shape: (1140, 66)\n"
     ]
    }
   ],
   "source": [
    "import pandas as pd\n",
    "import numpy as np\n",
    "from sklearn.preprocessing import StandardScaler, OneHotEncoder, LabelEncoder\n",
    "\n",
    "# 1. Load dataset\n",
    "df = pd.read_csv(\"mydata.csv\")\n",
    "print(\"Original shape:\", df.shape)\n",
    "\n",
    "# 2. Normalize / Standardize numerical columns\n",
    "# Select numeric columns\n",
    "num_cols = df.select_dtypes(include=np.number).columns.tolist()\n",
    "\n",
    "# Standardize (mean=0, std=1)\n",
    "scaler = StandardScaler()\n",
    "df[num_cols] = scaler.fit_transform(df[num_cols])\n",
    "\n",
    "print(\"\\nStandardized numerical columns\")\n",
    "\n",
    "# 3. Encode categorical variables\n",
    "cat_cols = df.select_dtypes(include=\"object\").columns.tolist()\n",
    "\n",
    "#One-hot encode \"stadium\" and label encode \"Home Team\" + \"Away Team\"\n",
    "df_encoded = df.copy()\n",
    "\n",
    "# One-hot encode \"stadium\"\n",
    "if \"stadium\" in cat_cols:\n",
    "    ohe = OneHotEncoder(sparse_output=False, drop=\"first\")  \n",
    "    ohe_array = ohe.fit_transform(df[[\"stadium\"]])\n",
    "    ohe_df = pd.DataFrame(ohe_array, columns=ohe.get_feature_names_out([\"stadium\"]))\n",
    "    df_encoded = pd.concat([df_encoded.drop(columns=[\"stadium\"]), ohe_df], axis=1)\n",
    "    print(\"One-hot encoded 'stadium'\")\n",
    "\n",
    "for col in [\"Home Team\", \"Away Team\"]:\n",
    "    if col in df.columns:\n",
    "        le = LabelEncoder()\n",
    "        df_encoded[col] = le.fit_transform(df[col])\n",
    "        print(f\"Label encoded '{col}'\")\n",
    "\n",
    "# 4. Create at least two new features\n",
    "# Goal Difference (Home - Away)\n",
    "if \"Goals Home\" in df.columns and \"Away Goals\" in df.columns:\n",
    "    df_encoded[\"goal_diff\"] = df[\"Goals Home\"] - df[\"Away Goals\"]\n",
    "\n",
    "# Total Goals\n",
    "if \"Goals Home\" in df.columns and \"Away Goals\" in df.columns:\n",
    "    df_encoded[\"total_goals\"] = df[\"Goals Home\"] + df[\"Away Goals\"]\n",
    "\n",
    "print(\"Created new features: 'goal_diff', 'total_goals'\")\n",
    "\n",
    "# 5. Save transformed dataset\n",
    "df_encoded.to_csv(\"mydata_transformed.csv\", index=False)\n",
    "print(\"\\nTransformed dataset saved as 'mydata_transformed.csv'\")\n",
    "print(\"Final shape:\", df_encoded.shape)\n"
   ]
  }
 ],
 "metadata": {
  "kernelspec": {
   "display_name": "ds",
   "language": "python",
   "name": "python3"
  },
  "language_info": {
   "codemirror_mode": {
    "name": "ipython",
    "version": 3
   },
   "file_extension": ".py",
   "mimetype": "text/x-python",
   "name": "python",
   "nbconvert_exporter": "python",
   "pygments_lexer": "ipython3",
   "version": "3.13.5"
  }
 },
 "nbformat": 4,
 "nbformat_minor": 5
}
