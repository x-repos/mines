{
 "cells": [
  {
   "cell_type": "markdown",
   "metadata": {},
   "source": [
    "# GPGN409 homework \n",
    "your name: Benjamin Nguyen"
   ]
  },
  {
   "cell_type": "markdown",
   "metadata": {},
   "source": [
    "# **Part 1**"
   ]
  },
  {
   "cell_type": "code",
   "execution_count": 1,
   "metadata": {},
   "outputs": [],
   "source": [
    "# Import packages\n",
    "\n",
    "using DataFrames, CSV\n",
    "using LinearAlgebra\n",
    "using Printf\n",
    "using CairoMakie\n",
    "using GLMakie\n",
    "using StatsBase\n",
    "using GeometryBasics"
   ]
  },
  {
   "cell_type": "markdown",
   "metadata": {},
   "source": [
    "### **1. Can this function be a probability density function? Motivate your answer**\n",
    "Consider the function\n",
    "$$\n",
    "f(x, y) = yx^2 - xy^2,\n",
    "$$\n",
    "where $x \\in [1, 2]$ and $y \\in [0, 1]$.\n",
    "\n",
    "\n",
    "\n",
    "We start by checking if the given function can be a probability density function.\n",
    "\n",
    "### Non-negativity:\n",
    "To be a probability density function, $f(x, y)$ must satisfy $f(x, y) \\geq 0$ for all $x \\in [1, 2]$ and $y \\in [0, 1]$.\n",
    "$$\n",
    "f(x, y) = yx^2 - xy^2\n",
    "$$\n",
    "\n",
    "Because $x$ and $y$ are non negative, so $f(x, y)$ is non negative\n"
   ]
  },
  {
   "cell_type": "markdown",
   "metadata": {},
   "source": [
    "### Compute the following double integral:\n",
    "$$\n",
    "\\int_{1}^{2} \\int_{0}^{1} (yx^2 - xy^2) \\, dy \\, dx.\n",
    "$$\n",
    "Compute the inner integral with respect to $y$ (Marginal PDE in $X$ manifold - $f_{X}(x)$):\n",
    "\n",
    "$$\n",
    "\\int_{0}^{1} (yx^2 - xy^2) \\, dy = \\int_{0}^{1} yx^2 \\, dy - \\int_{0}^{1} xy^2 \\, dy = \\left[ \\frac{y^2}{2} x^2 \\right]_{0}^{1} - \\left[ \\frac{y^3}{3} x \\right]_{0}^{1}\n",
    "$$\n",
    "\n",
    "Thus, the inner integral becomes:\n",
    "$$\n",
    "\\frac{x^2}{2} - \\frac{x}{3}.\n",
    "$$\n"
   ]
  },
  {
   "cell_type": "markdown",
   "metadata": {},
   "source": [
    "\n",
    "Compute the outer integral with respect to $x$:\n",
    "Now we integrate with respect to $x$:\n",
    "$$\n",
    "\\int_{1}^{2} \\left( \\frac{x^2}{2} - \\frac{x}{3} \\right) \\, dx = \\left[ \\frac{x^3}{6} \\right]_{1}^{2} - \\left[ \\frac{x^2}{6} \\right]_{1}^{2} = \\frac{2}{3}.\n",
    "$$\n",
    "\n",
    "Because the integral is not equal $1$, therefore, $f(x, y)$ is not a PDE"
   ]
  },
  {
   "cell_type": "markdown",
   "metadata": {},
   "source": [
    "### **2. If not, modify the function so it can be used as a probability density function on the given interval.**\n",
    "\n",
    "Modify:\n",
    "$$\n",
    "f(x, y) = \\frac{3}{2}(yx^2 - xy^2)\n",
    "$$"
   ]
  },
  {
   "cell_type": "markdown",
   "metadata": {},
   "source": [
    "### **3. Derive the expression for the marginal probability density functions $f_{X}(x)$ and $f_{Y}(y)$. Plot the marginal PDFs.**"
   ]
  },
  {
   "cell_type": "markdown",
   "metadata": {},
   "source": [
    "### PDF:\n",
    "$$\n",
    "\\int_{1}^{2} \\int_{0}^{1} \\frac{3}{2}(yx^2 - xy^2) \\, dy \\, dx.\n",
    "$$\n",
    "\n",
    "Marginal PDF in $X$:\n",
    "$$\n",
    "f_{X}(x)=\\int_{0}^{1} \\frac{3}{2}(yx^2 - xy^2) \\, dy = \\frac{3}{2} \\left( \\frac{x^2}{2} - \\frac{x}{3} \\right) = \\frac{3x^2}{4} - \\frac{x}{2}.\n",
    "$$\n",
    "\n",
    "Marginal PDF in $Y$:\n",
    "$$\n",
    "f_{Y}(y)=\\int_{1}^{2} \\frac{3}{2}(yx^2 - xy^2) \\, dx = \\frac{3}{2} \\left( \\frac{7y}{3} - \\frac{9y^2}{4} \\right) = \\frac{7y}{2} - \\frac{9y^2}{4}.\n",
    "$$"
   ]
  },
  {
   "cell_type": "markdown",
   "metadata": {},
   "source": [
    "# **Part 2**"
   ]
  }
 ],
 "metadata": {
  "kernelspec": {
   "display_name": "Julia 1.10.5",
   "language": "julia",
   "name": "julia-1.10"
  },
  "language_info": {
   "file_extension": ".jl",
   "mimetype": "application/julia",
   "name": "julia",
   "version": "1.10.5"
  }
 },
 "nbformat": 4,
 "nbformat_minor": 2
}
