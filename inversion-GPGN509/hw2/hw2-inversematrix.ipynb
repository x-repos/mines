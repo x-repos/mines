{
 "cells": [
  {
   "cell_type": "markdown",
   "metadata": {},
   "source": [
    "Benjamin Nguyen"
   ]
  },
  {
   "cell_type": "code",
   "execution_count": 1,
   "metadata": {},
   "outputs": [
    {
     "name": "stdout",
     "output_type": "stream",
     "text": [
      "[ 55 130 205 280 355]\n"
     ]
    }
   ],
   "source": [
    "import numpy as np\n",
    "\n",
    "# Define a matrix G of size (5, 5)\n",
    "G = np.array([[1, 2, 3, 4, 5],\n",
    "              [6, 7, 8, 9, 10],\n",
    "              [11, 12, 13, 14, 15],\n",
    "              [16, 17, 18, 19, 20],\n",
    "              [21, 22, 23, 24, 25]])\n",
    "\n",
    "# Define an array x of size 5\n",
    "x = np.array([1, 2, 3, 4, 5])\n",
    "\n",
    "# Compute the array d = G * x\n",
    "d = np.dot(G, x)\n",
    "\n",
    "print(d)\n"
   ]
  },
  {
   "cell_type": "code",
   "execution_count": 2,
   "metadata": {},
   "outputs": [
    {
     "name": "stdout",
     "output_type": "stream",
     "text": [
      "[ 58.21561023 126.78782782 206.95073006 291.33109812 373.58187296]\n"
     ]
    }
   ],
   "source": [
    "# Define the noise level (5%)\n",
    "noise_level = 0.05\n",
    "\n",
    "# Generate random noise, scaled to 5% of the values in d\n",
    "noise = noise_level * d * np.random.randn(len(d))\n",
    "\n",
    "# Add the noise to the original array d\n",
    "d_noisy = d + noise\n",
    "\n",
    "print(d_noisy)\n"
   ]
  },
  {
   "cell_type": "code",
   "execution_count": 6,
   "metadata": {},
   "outputs": [
    {
     "data": {
      "text/plain": [
       "0.0"
      ]
     },
     "execution_count": 6,
     "metadata": {},
     "output_type": "execute_result"
    }
   ],
   "source": [
    "det_G = np.linalg.det(G)\n",
    "det_G"
   ]
  },
  {
   "cell_type": "markdown",
   "metadata": {},
   "source": [
    "So, cannot inverse G because det G == 0, or G is singular (cannot have inverse). Therefore we need to use ***leastsquare***"
   ]
  },
  {
   "cell_type": "code",
   "execution_count": 7,
   "metadata": {},
   "outputs": [
    {
     "name": "stdout",
     "output_type": "stream",
     "text": [
      "Solution vector x: [2.260759   2.72093109 3.18110318 3.64127528 4.10144737]\n",
      "Residuals: []\n",
      "Rank of matrix G: 2\n",
      "Singular values of G: [7.42540539e+01 3.36681954e+00 3.16925894e-15 4.00868552e-16\n",
      " 5.43238204e-17]\n"
     ]
    }
   ],
   "source": [
    "x, residuals, rank, s = np.linalg.lstsq(G, d_noisy, rcond=None)\n",
    "\n",
    "print(\"Solution vector x:\", x)\n",
    "print(\"Residuals:\", residuals)\n",
    "print(\"Rank of matrix G:\", rank)\n",
    "print(\"Singular values of G:\", s)"
   ]
  }
 ],
 "metadata": {
  "kernelspec": {
   "display_name": "devito",
   "language": "python",
   "name": "python3"
  },
  "language_info": {
   "codemirror_mode": {
    "name": "ipython",
    "version": 3
   },
   "file_extension": ".py",
   "mimetype": "text/x-python",
   "name": "python",
   "nbconvert_exporter": "python",
   "pygments_lexer": "ipython3",
   "version": "3.12.4"
  }
 },
 "nbformat": 4,
 "nbformat_minor": 2
}
