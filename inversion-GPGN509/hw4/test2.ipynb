{
 "cells": [
  {
   "cell_type": "code",
   "execution_count": 2,
   "metadata": {},
   "outputs": [
    {
     "name": "stdout",
     "output_type": "stream",
     "text": [
      "M = [-22.21005020095977; -0.09097175044215204;;]\n"
     ]
    },
    {
     "data": {
      "text/plain": [
       "4.0235443836407435e8"
      ]
     },
     "metadata": {},
     "output_type": "display_data"
    }
   ],
   "source": [
    "using DataFrames, CSV\n",
    "using LinearAlgebra\n",
    "using Plots, Printf\n",
    "# Load the data from the text file\n",
    "df = CSV.read(\"HW4data.csv\", DataFrame; delim=',', ignorerepeated=true)\n",
    "\n",
    "# Sort the DataFrame by the 'Year' column\n",
    "sort!(df, :Year)\n",
    "\n",
    "\n",
    "# Plot data\n",
    "t = df.Year # Time axis\n",
    "P = df.KBPY # Number of berrels per year\n",
    "\n",
    "\n",
    "t0 = 1975\n",
    "\n",
    "# P = dQ/dt\n",
    "Q = zeros(length(P),1)\n",
    "Q[1] = P[1]\n",
    "for i in 2:length(P)\n",
    "    dt = t[i] - t[i-1]\n",
    "    Q[i] = Q[i-1] + 0.5 * (P[i] + P[i-1]) * dt\n",
    "end\n",
    "\n",
    "d = log.(1. ./Q.^2 .* P)\n",
    "G = [ones(length(t)) (t .- t0)]\n",
    "M = (G'G)^-1*G'd # P = d\n",
    "@show M;\n",
    "\n",
    "k = -M[2]\n",
    "\n",
    "L = exp(log(k)-M[1])"
   ]
  }
 ],
 "metadata": {
  "kernelspec": {
   "display_name": "Julia 1.10.5",
   "language": "julia",
   "name": "julia-1.10"
  },
  "language_info": {
   "file_extension": ".jl",
   "mimetype": "application/julia",
   "name": "julia",
   "version": "1.10.5"
  }
 },
 "nbformat": 4,
 "nbformat_minor": 2
}
