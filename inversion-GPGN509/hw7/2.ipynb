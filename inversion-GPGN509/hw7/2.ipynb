{
 "cells": [
  {
   "cell_type": "code",
   "execution_count": 2,
   "metadata": {},
   "outputs": [
    {
     "name": "stderr",
     "output_type": "stream",
     "text": [
      "┌ Warning: Encountered an `AbstractVector` with value -5.0:0.5:5.0 on side x in `convert_arguments` for the `ImageLike` trait.\n",
      "│         Using an `AbstractVector` to specify one dimension of an `ImageLike` is deprecated because `ImageLike` sides always need exactly two values, start and stop.\n",
      "│         Use interval notation `start .. stop` or a two-element tuple `(start, stop)` instead.\n",
      "└ @ Makie /Users/ben/.julia/packages/Makie/YkotL/src/conversions.jl:416\n",
      "┌ Warning: Encountered an `AbstractVector` with value -5.0:0.5:5.0 on side y in `convert_arguments` for the `ImageLike` trait.\n",
      "│         Using an `AbstractVector` to specify one dimension of an `ImageLike` is deprecated because `ImageLike` sides always need exactly two values, start and stop.\n",
      "│         Use interval notation `start .. stop` or a two-element tuple `(start, stop)` instead.\n",
      "└ @ Makie /Users/ben/.julia/packages/Makie/YkotL/src/conversions.jl:416\n",
      "┌ Warning: Encountered an `AbstractVector` with value -5.0:0.5:5.0 on side z in `convert_arguments` for the `ImageLike` trait.\n",
      "│         Using an `AbstractVector` to specify one dimension of an `ImageLike` is deprecated because `ImageLike` sides always need exactly two values, start and stop.\n",
      "│         Use interval notation `start .. stop` or a two-element tuple `(start, stop)` instead.\n",
      "└ @ Makie /Users/ben/.julia/packages/Makie/YkotL/src/conversions.jl:416\n"
     ]
    }
   ],
   "source": [
    "using GLMakie\n",
    "using LazyGrids\n",
    "\n",
    "# Define ranges\n",
    "x = -5:0.5:5\n",
    "y = -5:0.5:5\n",
    "z = -5:0.5:5\n",
    "\n",
    "# Create grid\n",
    "X, Y, Z = ndgrid(x, y, z)\n",
    "g = sin.(sqrt.(X.^2 .+ Y.^2)) .* cos.(Z)\n",
    "vol = g\n",
    "fig, ax, _ = volume(x, y, z, vol;\n",
    "    colorrange = (minimum(vol), maximum(vol)),\n",
    "    colormap = :Egypt, transparency = true,\n",
    "    figure = (; size = (1200, 800)),\n",
    "    axis = (;\n",
    "        type = Axis3,\n",
    "        perspectiveness = 0.5,\n",
    "        azimuth = 2.19,\n",
    "        elevation = 0.57,\n",
    "        aspect = (1, 1, 1)\n",
    "        )\n",
    "    )\n",
    "fig"
   ]
  },
  {
   "cell_type": "code",
   "execution_count": 4,
   "metadata": {},
   "outputs": [
    {
     "name": "stderr",
     "output_type": "stream",
     "text": [
      "┌ Warning: Encountered an `AbstractVector` with value -5.0:0.5:5.0 on side x in `convert_arguments` for the `ImageLike` trait.\n",
      "│         Using an `AbstractVector` to specify one dimension of an `ImageLike` is deprecated because `ImageLike` sides always need exactly two values, start and stop.\n",
      "│         Use interval notation `start .. stop` or a two-element tuple `(start, stop)` instead.\n",
      "└ @ Makie /Users/ben/.julia/packages/Makie/YkotL/src/conversions.jl:416\n",
      "┌ Warning: Encountered an `AbstractVector` with value -5.0:0.5:5.0 on side y in `convert_arguments` for the `ImageLike` trait.\n",
      "│         Using an `AbstractVector` to specify one dimension of an `ImageLike` is deprecated because `ImageLike` sides always need exactly two values, start and stop.\n",
      "│         Use interval notation `start .. stop` or a two-element tuple `(start, stop)` instead.\n",
      "└ @ Makie /Users/ben/.julia/packages/Makie/YkotL/src/conversions.jl:416\n",
      "┌ Warning: Encountered an `AbstractVector` with value -5.0:0.5:5.0 on side z in `convert_arguments` for the `ImageLike` trait.\n",
      "│         Using an `AbstractVector` to specify one dimension of an `ImageLike` is deprecated because `ImageLike` sides always need exactly two values, start and stop.\n",
      "│         Use interval notation `start .. stop` or a two-element tuple `(start, stop)` instead.\n",
      "└ @ Makie /Users/ben/.julia/packages/Makie/YkotL/src/conversions.jl:416\n"
     ]
    }
   ],
   "source": [
    "\n",
    "# Assuming vol, x, y, z are already defined as per your context\n",
    "fig, ax, _ = volume(x, y, z, vol;\n",
    "    colorrange = (minimum(vol), maximum(vol)),\n",
    "    colormap = :dense,\n",
    "    transparency = true,\n",
    "    figure = (; size = (1200, 800)),\n",
    "    axis = (;\n",
    "        type = Axis3,\n",
    "        perspectiveness = 0.5,\n",
    "        azimuth = 2.19,\n",
    "        elevation = 0.57,\n",
    "        aspect = (1, 2, 1)\n",
    "    )\n",
    ")\n",
    "\n",
    "# Adding 3D grids\n",
    "# grid!(ax; color = :gray, alpha = 0.5, linewidth = 0.5)  # Adjust color and transparency as needed\n",
    "\n",
    "# Show the figure with grids\n",
    "fig\n"
   ]
  }
 ],
 "metadata": {
  "kernelspec": {
   "display_name": "Julia 1.11.1",
   "language": "julia",
   "name": "julia-1.11"
  },
  "language_info": {
   "file_extension": ".jl",
   "mimetype": "application/julia",
   "name": "julia",
   "version": "1.11.1"
  }
 },
 "nbformat": 4,
 "nbformat_minor": 2
}
