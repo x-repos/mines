{
 "cells": [
  {
   "cell_type": "code",
   "execution_count": null,
   "metadata": {},
   "outputs": [],
   "source": [
    "using CSV, DataFrames\n"
   ]
  },
  {
   "cell_type": "code",
   "execution_count": 2,
   "metadata": {},
   "outputs": [],
   "source": [
    "using CSV, DataFrames\n",
    "using CairoMakie\n",
    "using LinearAlgebra\n",
    "\n",
    "# Read the CSV file\n",
    "df = CSV.File(\"Z_GR_NPHI_RHOB_CALI.txt\",delim=',', ignorerepeated=true) |> DataFrame\n",
    "\n",
    "# Convert columns to arrays\n",
    "z = df[:, 1] .* 0.0003048  # Convert to kilometers\n",
    "γ = df[:, 2]\n",
    "ϕ = df[:, 3]\n",
    "δ = df[:, 4]\n",
    "cali = df[:, 5]\n",
    "n = length(z);\n",
    "\n",
    "# Define ranges for CALI, velocity, density, and porosity\n",
    "# For plotting and the later PDF\n",
    "cali_range = (5.9, 6.3) # CALI     min=5.9, max=6.3\n",
    "v_x_range  = (3.0, 7.0) # Velocity min=3.0, max=7.0\n",
    "δ_x_range  = (2.3, 2.8) # Density  min=2.3, max=2.8\n",
    "ϕ_x_range  = (0.0, 0.3) # Porosity min=0.0, max=0.3\n",
    "γ_x_range  = (0  , 200);# Gamma    min=0.0, max=200"
   ]
  },
  {
   "cell_type": "code",
   "execution_count": null,
   "metadata": {},
   "outputs": [],
   "source": [
    "fig = Figure(size=(800, 600))\n",
    "\n",
    "ax1 = Axis(fig[1, 1], xlabel=L\"\\gamma\\text{(API)}\", ylabel=L\"z\\text{(km)}\", yreversed=true)\n",
    "ax2 = Axis(fig[1, 2], xlabel=L\"CALI\\text{(in)}\", yreversed=true)\n",
    "ax3 = Axis(fig[1, 3], xlabel=L\"\\phi\\text{(.)}\", yreversed=true)\n",
    "ax4 = Axis(fig[1, 4], xlabel=L\"\\delta\\text{(g/cm)}^3\", yreversed=true)\n",
    "lines!(ax1, γ, z, color=:black)\n",
    "xlims!(ax1, γ_x_range)\n",
    "lines!(ax2, cali, z, color=:green)\n",
    "xlims!(ax2, cali_range)\n",
    "lines!(ax3, ϕ, z, color=:red)\n",
    "xlims!(ax3, ϕ_x_range)\n",
    "lines!(ax4, δ, z, color=:blue)\n",
    "xlims!(ax4, δ_x_range)\n",
    "linkyaxes!(ax1, ax2, ax3, ax4)\n",
    "ylims!(ax4, maximum(z), minimum(z), )\n",
    "\n",
    "fig"
   ]
  },
  {
   "cell_type": "code",
   "execution_count": null,
   "metadata": {},
   "outputs": [],
   "source": [
    "# Compute dispersion for delta and phi\n",
    "cmax = 8  # Max allowed caliper\n",
    "cref = 6  # Reference caliper\n",
    "a_δ = 0.05  # Minimum uncertainty\n",
    "a_ϕ = 0.03 # Minimum uncertainty\n",
    "b_δ = range(0.04, stop=0.05, length=length(cali))\n",
    "b_ϕ = range(0.05, stop=0.06, length=length(cali))\n",
    "\n",
    "# Compute σ_δ, σ_ϕ and define σ_v\n",
    "σ_δ = a_δ .+ (cali .- cref) ./ (cmax - cref) .* b_δ\n",
    "σ_ϕ = a_ϕ .+ (cali .- cref) ./ (cmax - cref) .* b_ϕ\n",
    "σ_v = 0.5"
   ]
  },
  {
   "cell_type": "code",
   "execution_count": 96,
   "metadata": {},
   "outputs": [],
   "source": [
    "function gaussian_1d(σ, x, μ, n)\n",
    "    # Replicate x to match n rows\n",
    "    x_tiled = repeat(x', n, 1)  # Transpose x and repeat n times\n",
    "    # Compute Gaussian function\n",
    "    g = (1 ./ (σ .* sqrt(2 * π))) .* exp.(-0.5 * ((x_tiled .- μ) .^ 2) ./ (σ .^ 2))\n",
    "    return g\n",
    "end\n",
    "\n",
    "# Define parameters\n",
    "n_x = 100  # Number of values for dispersion\n",
    "\n",
    "# Generate linearly spaced vectors\n",
    "v_x = range(v_x_range..., length=n_x) |> collect\n",
    "δ_x = range(δ_x_range..., length=n_x) |> collect\n",
    "ϕ_x = range(ϕ_x_range..., length=n_x) |> collect;\n",
    "v = 5.654 .- 0.008 .* γ # Compute v using the GR-v equation\n",
    "\n",
    "# Define marginal PDFs using the gaussian_1d function\n",
    "δ_marginal_prior = gaussian_1d(σ_δ, δ_x, δ, n)\n",
    "v_marginal_prior = gaussian_1d(σ_v, v_x, v, n)\n",
    "ϕ_marginal_prior = gaussian_1d(σ_ϕ, ϕ_x, ϕ, n);"
   ]
  },
  {
   "cell_type": "code",
   "execution_count": null,
   "metadata": {},
   "outputs": [],
   "source": [
    "fig = Figure(size=(600, 600))\n",
    "ax1 = Axis(fig[1, 1], xlabel=L\"v\\text{(km/s)}\", ylabel=L\"z\\text{(km)}\", yreversed=true)\n",
    "ax2 = Axis(fig[1, 2], xlabel=L\"\\phi\\text{(.)}\", yreversed=true)\n",
    "ax3 = Axis(fig[1, 3], xlabel=L\"\\delta\\text{(g/cm)}^3\", yreversed=true)\n",
    "heatmap!(ax1, v_x, z, v_marginal_prior')\n",
    "lines!(ax1, v, z, color=:black, linewidth=0.75)\n",
    "xlims!(ax1, v_x_range)\n",
    "heatmap!(ax2, ϕ_x, z, ϕ_marginal_prior')\n",
    "lines!(ax2, ϕ, z, color=:black, linewidth=0.75)\n",
    "xlims!(ax2, ϕ_x_range)\n",
    "heatmap!(ax3, δ_x, z, δ_marginal_prior')\n",
    "lines!(ax3, δ, z, color=:black, linewidth=0.75)\n",
    "xlims!(ax3, δ_x_range)\n",
    "linkyaxes!(ax1, ax2, ax3)\n",
    "ylims!(ax3, maximum(z), minimum(z))\n",
    "fig"
   ]
  },
  {
   "cell_type": "code",
   "execution_count": null,
   "metadata": {},
   "outputs": [],
   "source": []
  },
  {
   "cell_type": "code",
   "execution_count": null,
   "metadata": {},
   "outputs": [],
   "source": [
    "# Extract marginal PDFs for a specific index\n",
    "index = 1600\n",
    "v_marginal_prior_16 = v_marginal_prior[index, :]\n",
    "ϕ_marginal_prior_16 = ϕ_marginal_prior[index, :]\n",
    "δ_marginal_prior_16 = δ_marginal_prior[index, :]\n",
    "\n",
    "\n",
    "\n",
    "# Plot marginal PDFs\n",
    "fig, axes = plt.subplots(3, 1, figsize=(8, 8))\n",
    "axes[0].plot(v_x, g_v_marginal)\n",
    "axes[0].set_title(f\"Marginal PDF at depth {z[1600]:.2f} km\")\n",
    "axes[0].set_xlabel('Velocity (km/s)')\n",
    "axes[1].plot(delta_x, g_delta_marginal)\n",
    "axes[1].set_xlabel('Density (g/cm^3)')\n",
    "axes[2].plot(phi_x, g_phi_marginal)\n",
    "axes[2].set_xlabel('Porosity')\n",
    "plt.tight_layout()\n",
    "plt.show()\n",
    "\n",
    "# Create a 3D grid for joint PDF calculation\n",
    "v_grid, delta_grid, phi_grid = np.meshgrid(g_v_marginal, g_delta_marginal, g_phi_marginal, indexing='ij')\n",
    "\n",
    "# Calculate the joint PDF as the product of marginals\n",
    "g_joint_prior = v_grid * delta_grid * phi_grid"
   ]
  },
  {
   "cell_type": "code",
   "execution_count": null,
   "metadata": {},
   "outputs": [],
   "source": [
    "lines(δ_marginal_prior[1,:])"
   ]
  },
  {
   "cell_type": "code",
   "execution_count": null,
   "metadata": {},
   "outputs": [],
   "source": []
  }
 ],
 "metadata": {
  "kernelspec": {
   "display_name": "Julia 1.11.1",
   "language": "julia",
   "name": "julia-1.11"
  },
  "language_info": {
   "file_extension": ".jl",
   "mimetype": "application/julia",
   "name": "julia",
   "version": "1.11.1"
  }
 },
 "nbformat": 4,
 "nbformat_minor": 2
}
