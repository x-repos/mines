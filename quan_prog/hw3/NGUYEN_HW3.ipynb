{
 "cells": [
  {
   "cell_type": "code",
   "execution_count": 317,
   "metadata": {},
   "outputs": [],
   "source": [
    "from qiskit import *\n",
    "from qiskit_aer import QasmSimulator\n",
    "from qiskit.quantum_info import Statevector\n",
    "from numpy.random import randint"
   ]
  },
  {
   "cell_type": "code",
   "execution_count": null,
   "metadata": {},
   "outputs": [
    {
     "name": "stdout",
     "output_type": "stream",
     "text": [
      "     ┌───┐      ░       ░ ┌───┐┌─┐   \n",
      "q_0: ┤ H ├──────░───────░─┤ H ├┤M├───\n",
      "     ├───┤      ░       ░ ├───┤└╥┘┌─┐\n",
      "q_1: ┤ H ├──────░───────░─┤ H ├─╫─┤M├\n",
      "     ├───┤┌───┐ ░ ┌───┐ ░ └───┘ ║ └╥┘\n",
      "q_2: ┤ X ├┤ H ├─░─┤ X ├─░───────╫──╫─\n",
      "     └───┘└───┘ ░ └───┘ ░       ║  ║ \n",
      "c: 2/═══════════════════════════╩══╩═\n",
      "                                0  1 \n",
      "{'00': 10000}\n",
      "CONSTANT ORACLE\n"
     ]
    }
   ],
   "source": [
    "def create_constant_oracle(n):\n",
    "    constant_oracle = QuantumCircuit(n+1)\n",
    "    constant_oracle.x(n)\n",
    "    return constant_oracle\n",
    "\n",
    "\n",
    "def create_balanced_oracle(n):\n",
    "    balanced_oracle = QuantumCircuit(n + 1)\n",
    "    \n",
    "    balanced_oracle.cx(0, n)  # Flips the last qubit if the first qubit is |1⟩\n",
    "\n",
    "    return balanced_oracle\n",
    "\n",
    "\n",
    "def generate_random_oracle(n):\n",
    "    # oracle = QuantumCircuit(n + 1)\n",
    "    # Flip a coin: 0 for constant, 1 for balanced\n",
    "    coin_flip = randint(2)\n",
    "\n",
    "    if coin_flip == 0:\n",
    "        oracle = create_constant_oracle(n)\n",
    "    else:\n",
    "        oracle = create_balanced_oracle(n)        \n",
    "    return oracle\n",
    "\n",
    "def construct_dj_circuit(n, oracle):\n",
    "    qc = QuantumCircuit(n + 1, n)\n",
    "    qc.x(n)\n",
    "    qc.h(range(n + 1))\n",
    "    qc.barrier()\n",
    "    qc.compose(oracle, inplace=True)\n",
    "    qc.barrier()\n",
    "    qc.h(range(n))\n",
    "    qc.measure(range(n), range(n))\n",
    "\n",
    "    return qc\n",
    "\n",
    "def run_dj_circuit(qc):\n",
    "    backend = QasmSimulator()\n",
    "    result = backend.run(qc.reverse_bits(), shots=1e4).result()\n",
    "    counts = result.get_counts()\n",
    "    return counts\n",
    "\n",
    "def main():\n",
    "    # n = int(input(\"Choose n: \"))  # Choose number of input qubits\n",
    "    n = 2\n",
    "    oracle = generate_random_oracle(n)      # Randomly generate an oracle\n",
    "    qc = construct_dj_circuit(n, oracle)    # Create the Deutsch-Jozsa circuit\n",
    "    counts = run_dj_circuit(qc)             # Run the circuit\n",
    "\n",
    "    print(qc)                               # Print the circuit\n",
    "    print(counts)                           # Print measurement results\n",
    "\n",
    "    if '0' * n in counts:                   # if output is ever 0^n\n",
    "        print(\"CONSTANT ORACLE\")\n",
    "    else:                                   # if output is never 0^n\n",
    "        print(\"BALANCED ORACLE\")\n",
    "    # qc.draw(output=\"mpl\").savefig('1.png')\n",
    "\n",
    "# Run the main function\n",
    "if __name__ == \"__main__\":\n",
    "    main()\n"
   ]
  }
 ],
 "metadata": {
  "kernelspec": {
   "display_name": "qiskit",
   "language": "python",
   "name": "python3"
  },
  "language_info": {
   "codemirror_mode": {
    "name": "ipython",
    "version": 3
   },
   "file_extension": ".py",
   "mimetype": "text/x-python",
   "name": "python",
   "nbconvert_exporter": "python",
   "pygments_lexer": "ipython3",
   "version": "3.13.1"
  }
 },
 "nbformat": 4,
 "nbformat_minor": 2
}
