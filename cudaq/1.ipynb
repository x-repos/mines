{
 "cells": [
  {
   "cell_type": "code",
   "execution_count": 3,
   "id": "54bc7418",
   "metadata": {},
   "outputs": [],
   "source": [
    "import cudaq\n",
    "\n",
    "cudaq.set_target(\"nvidia\")  # GPU state-vector simulator\n"
   ]
  },
  {
   "cell_type": "code",
   "execution_count": 4,
   "id": "6c7e1209",
   "metadata": {},
   "outputs": [
    {
     "name": "stdout",
     "output_type": "stream",
     "text": [
      "{ 00:491 11:509 }\n",
      "\n"
     ]
    }
   ],
   "source": [
    "import cudaq\n",
    "\n",
    "@cudaq.kernel\n",
    "def bell():\n",
    "    q = cudaq.qvector(2)\n",
    "    h(q[0]); x.ctrl(q[0], q[1])\n",
    "    mz(q)\n",
    "\n",
    "counts = cudaq.sample(bell)   # defaults to 1000 shots\n",
    "print(counts)                 # expect ~{'00': ~500, '11': ~500}\n",
    "\n"
   ]
  },
  {
   "cell_type": "code",
   "execution_count": 6,
   "id": "6a8c2695",
   "metadata": {},
   "outputs": [
    {
     "name": "stdout",
     "output_type": "stream",
     "text": [
      "Target nvidia\n",
      "\tsimulator=cusvsim_fp32\n",
      "\tplatform=default\n",
      "\tdescription=The NVIDIA Target provides a simulated QPU via cuStateVec (state-vector simulation) integration.\n",
      "\tprecision=fp32\n",
      "Supported Arguments:\n",
      "  - option (Specify the target options as a comma-separated list.\n",
      "Supported options are 'fp32', 'fp64', 'mgpu', 'mqpu'.\n",
      "For example, the 'fp32,mgpu' option combination will activate multi-GPU distribution with single-precision. Not all option combinations are supported.)\n",
      "\n"
     ]
    }
   ],
   "source": [
    "print(cudaq.get_target())\n"
   ]
  },
  {
   "cell_type": "code",
   "execution_count": null,
   "id": "cad70763",
   "metadata": {},
   "outputs": [],
   "source": [
    "import time, math, random\n",
    "import cudaq\n",
    "\n",
    "# ---------- knobs ----------\n",
    "N_QUBITS = 22\n",
    "DEPTH    = 40\n",
    "SHOTS    = 1000\n",
    "GPU_OPTS = \"fp32\"     # try \"fp64\" or \"mgpu\", e.g., \"fp32,mgpu\"\n",
    "# ---------------------------\n",
    "\n",
    "# Heavy-ish circuit\n",
    "random.seed(0)\n",
    "\n",
    "@cudaq.kernel\n",
    "def heavy(n_qubits: int, thetas: list[float]):\n",
    "    q = cudaq.qvector(n_qubits)\n",
    "    for i in range(n_qubits): h(q[i])\n",
    "    t = 0\n",
    "    for _ in range(DEPTH):\n",
    "        for i in range(n_qubits - 1):\n",
    "            x.ctrl(q[i], q[i+1])\n",
    "        for i in range(n_qubits):\n",
    "            rz(thetas[t], q[i]); t += 1\n",
    "    mz(q)\n",
    "\n",
    "thetas = [2.0 * math.pi * random.random() for _ in range(N_QUBITS * DEPTH)]\n",
    "\n",
    "def do_sample(*args, **kwargs):\n",
    "    \"\"\"Call cudaq.sample with whatever this build supports.\"\"\"\n",
    "    try:\n",
    "        return cudaq.sample(*args, **kwargs)\n",
    "    except TypeError:\n",
    "        # Try shots_count kw\n",
    "        if \"shots\" in kwargs:\n",
    "            shots = kwargs.pop(\"shots\")\n",
    "            return cudaq.sample(*args, shots_count=shots, **kwargs)\n",
    "        # Try without shots kw at all\n",
    "        return cudaq.sample(*args)\n",
    "\n",
    "def pick_targets():\n",
    "    # Prefer these CPU & GPU names if present; otherwise fall back heuristically.\n",
    "    cpu_pref = [\"qpp-cpu\", \"density-matrix-cpu\", \"stim\", \"qpp\"]\n",
    "    gpu_pref = [\"nvidia\", \"nvidia-fp64\", \"nvidia-mgpu\", \"nvidia-mgpu-fp64\", \"tensornet\", \"tensornet-mps\"]\n",
    "\n",
    "    names = [getattr(t, \"name\", str(t)) for t in cudaq.get_targets()]\n",
    "    cpu = next((n for n in cpu_pref if n in names), None)\n",
    "    gpu = next((n for n in gpu_pref if n in names), None)\n",
    "\n",
    "    if not cpu:\n",
    "        # any obvious CPU fallback\n",
    "        cpu = next((n for n in names if \"cpu\" in n or n in (\"qpp\", \"stim\")), None)\n",
    "    if not gpu:\n",
    "        gpu = next((n for n in names if \"nvidia\" in n or \"tensor\" in n), None)\n",
    "\n",
    "    if not cpu or not gpu:\n",
    "        raise RuntimeError(f\"Couldn’t find CPU/GPU targets. Found: {names}\")\n",
    "    return cpu, gpu\n",
    "\n",
    "def set_target(name: str, opts: str | None = None):\n",
    "    # Some builds require keyword 'option', not positional.\n",
    "    if opts:\n",
    "        cudaq.set_target(name, option=opts)\n",
    "    else:\n",
    "        cudaq.set_target(name)\n",
    "\n",
    "def time_target(name: str, opts: str | None = None):\n",
    "    set_target(name, opts)\n",
    "    # warm-up (JIT, caches)\n",
    "    _ = do_sample(heavy, N_QUBITS, thetas, shots=10)\n",
    "    t0 = time.perf_counter()\n",
    "    counts = do_sample(heavy, N_QUBITS, thetas, shots=SHOTS)\n",
    "    dt = time.perf_counter() - t0\n",
    "    return dt, sum(counts.values())\n",
    "\n",
    "cpu_name, gpu_name = pick_targets()\n",
    "\n",
    "cpu_t, _ = time_target(cpu_name)\n",
    "print(f\"CPU  ({cpu_name}):      {cpu_t:.3f} s\")\n",
    "\n",
    "gpu_opts = GPU_OPTS if \"nvidia\" in gpu_name else None  # only nvidia uses 'option'\n",
    "gpu_t, _ = time_target(gpu_name, gpu_opts)\n",
    "label = f\"{gpu_name}{' '+gpu_opts if gpu_opts else ''}\"\n",
    "print(f\"GPU  ({label}): {gpu_t:.3f} s\")\n",
    "\n",
    "print(f\"\\nSpeedup (CPU/GPU): {cpu_t/gpu_t:.2f}×\")\n",
    "\n",
    "# Memory hint\n",
    "state_bytes_fp32 = (2**N_QUBITS) * 8   # complex64\n",
    "state_bytes_fp64 = (2**N_QUBITS) * 16  # complex128\n",
    "print(f\"\\nApprox state size: ~{state_bytes_fp32/1e9:.2f} GB (fp32) / {state_bytes_fp64/1e9:.2f} GB (fp64)\")\n"
   ]
  },
  {
   "cell_type": "code",
   "execution_count": 15,
   "id": "0dfcefd7",
   "metadata": {},
   "outputs": [
    {
     "name": "stdout",
     "output_type": "stream",
     "text": [
      "N=20  ~ 0.01 GB fp32  time= 0.016s\n",
      "N=21  ~ 0.02 GB fp32  time= 0.017s\n",
      "N=22  ~ 0.03 GB fp32  time= 0.031s\n",
      "N=23  ~ 0.07 GB fp32  time= 0.060s\n",
      "N=24  ~ 0.13 GB fp32  time= 0.121s\n",
      "N=25  ~ 0.27 GB fp32  time= 0.248s\n",
      "N=26  ~ 0.54 GB fp32  time= 0.503s\n",
      "N=27  ~ 1.07 GB fp32  time= 1.073s\n",
      "N=28  ~ 2.15 GB fp32  time= 2.185s\n"
     ]
    }
   ],
   "source": [
    "import time, math, random, cudaq\n",
    "\n",
    "# --- knobs ---\n",
    "START_N = 20     # starting qubits\n",
    "MAX_N   = 28     # try up to here (stop earlier if OOM)\n",
    "DEPTH   = 20\n",
    "SHOTS   = 200\n",
    "# -----------\n",
    "\n",
    "cudaq.set_target(\"nvidia\", option=\"fp32\")   # try \"fp64\" or \"fp32,mgpu\" if you want\n",
    "\n",
    "def approx_gb(n):  # complex64 state: 8 bytes per amplitude\n",
    "    return (2**n * 8) / 1e9\n",
    "\n",
    "@cudaq.kernel\n",
    "def heavy(n: int, theta: list[float]):\n",
    "    q = cudaq.qvector(n)\n",
    "    for i in range(n): h(q[i])\n",
    "    k = 0\n",
    "    for _ in range(DEPTH):\n",
    "        for i in range(n-1): x.ctrl(q[i], q[i+1])\n",
    "        for i in range(n): rz(theta[k], q[i]); k += 1\n",
    "    mz(q)\n",
    "\n",
    "for n in range(START_N, MAX_N + 1):\n",
    "    random.seed(0)\n",
    "    thetas = [2*math.pi*random.random() for _ in range(n*DEPTH)]\n",
    "    try:\n",
    "        cudaq.sample(heavy, n, thetas, shots_count=10)  # warm-up\n",
    "        t0 = time.perf_counter()\n",
    "        cudaq.sample(heavy, n, thetas, shots_count=SHOTS)\n",
    "        dt = time.perf_counter() - t0\n",
    "        print(f\"N={n:2d}  ~{approx_gb(n):5.2f} GB fp32  time={dt:6.3f}s\")\n",
    "    except Exception as e:\n",
    "        print(f\"N={n:2d}  ~{approx_gb(n):5.2f} GB fp32  -> stopped ({type(e).__name__})\")\n",
    "        break\n"
   ]
  },
  {
   "cell_type": "code",
   "execution_count": 16,
   "id": "1af3a246",
   "metadata": {},
   "outputs": [
    {
     "name": "stdout",
     "output_type": "stream",
     "text": [
      "{ 0:641 1:359 }\n",
      "\n"
     ]
    }
   ],
   "source": [
    "import cudaq\n",
    "\n",
    "@cudaq.kernel\n",
    "def one_qubit(theta: float, phi: float):\n",
    "    q = cudaq.qvector(1)\n",
    "    rx(theta, q[0])\n",
    "    rz(phi, q[0])\n",
    "    mz(q)\n",
    "\n",
    "# Set GPU target\n",
    "cudaq.set_target(\"nvidia\", option=\"fp32\")\n",
    "\n",
    "# Run sampling\n",
    "result = cudaq.sample(one_qubit, 1.234, 0.789, shots_count=1000)\n",
    "print(result)\n"
   ]
  },
  {
   "cell_type": "code",
   "execution_count": 27,
   "id": "55b1a642",
   "metadata": {},
   "outputs": [
    {
     "name": "stdout",
     "output_type": "stream",
     "text": [
      "⟨Z⟩ at (θ=0, φ=π): -0.9999999999999981\n"
     ]
    }
   ],
   "source": [
    "import cudaq, numpy as np\n",
    "from cudaq import spin\n",
    "\n",
    "@cudaq.kernel\n",
    "def circuit(theta: float, phi: float):\n",
    "    q = cudaq.qvector(1)\n",
    "    rx(theta, q[0])\n",
    "    ry(phi, q[0])\n",
    "\n",
    "# expect ≈ -1 at (0, π)\n",
    "val = cudaq.observe(circuit, spin.z(0), 0.0, np.pi).expectation()\n",
    "print(\"⟨Z⟩ at (θ=0, φ=π):\", val)  # -> -1.0\n"
   ]
  },
  {
   "cell_type": "code",
   "execution_count": 35,
   "id": "02221b7a",
   "metadata": {},
   "outputs": [
    {
     "name": "stdout",
     "output_type": "stream",
     "text": [
      "final <Z>: -0.9982628213474527\n",
      "params (θ, φ): [3.0842350694048486, -0.0004203485768833337]\n"
     ]
    }
   ],
   "source": [
    "import numpy as np, cudaq\n",
    "from cudaq import spin\n",
    "\n",
    "# (optional) GPU\n",
    "# cudaq.set_target(\"nvidia\", option=\"fp32\")\n",
    "\n",
    "@cudaq.kernel\n",
    "def circuit(p: list[float]):\n",
    "    q = cudaq.qvector(1)\n",
    "    rx(p[0], q[0])\n",
    "    ry(p[1], q[0])\n",
    "\n",
    "ham = spin.z(0)\n",
    "opt = cudaq.optimizers.Adam()\n",
    "grad = cudaq.gradients.CentralDifference()\n",
    "\n",
    "# non-stationary starting point\n",
    "x0 = [0.54, 0.12]\n",
    "\n",
    "def objective_delta(d: list[float]):\n",
    "    # parameters = x0 + d\n",
    "    p = [x0[0] + d[0], x0[1] + d[1]]\n",
    "    f = lambda pv: cudaq.observe(circuit, ham, pv).expectation()\n",
    "    cost = f(p)\n",
    "    # since p = x0 + d, ∂cost/∂d = ∂cost/∂p\n",
    "    g = grad.compute(p, f, cost)\n",
    "    return cost, g\n",
    "\n",
    "energy, d_opt = opt.optimize(dimensions=2, function=objective_delta)\n",
    "p_opt = [x0[0] + d_opt[0], x0[1] + d_opt[1]]\n",
    "\n",
    "print(\"final <Z>:\", energy)          # ≈ -1\n",
    "print(\"params (θ, φ):\", p_opt)       # ≈ [~0, ~π]\n"
   ]
  }
 ],
 "metadata": {
  "kernelspec": {
   "display_name": "cudaq",
   "language": "python",
   "name": "python3"
  },
  "language_info": {
   "codemirror_mode": {
    "name": "ipython",
    "version": 3
   },
   "file_extension": ".py",
   "mimetype": "text/x-python",
   "name": "python",
   "nbconvert_exporter": "python",
   "pygments_lexer": "ipython3",
   "version": "3.13.5"
  }
 },
 "nbformat": 4,
 "nbformat_minor": 5
}
